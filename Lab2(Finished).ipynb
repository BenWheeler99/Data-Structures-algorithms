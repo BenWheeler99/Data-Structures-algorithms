{
  "cells": [
    {
      "cell_type": "markdown",
      "metadata": {
        "id": "vXJ__dbwi9BX"
      },
      "source": [
        "# **Lab 2**"
      ]
    },
    {
      "cell_type": "markdown",
      "source": [
        "1)\n",
        "We want to add a button to the below tally counter  that allows an operator to undo an accidental button click. Provide a method\n",
        "\n",
        "def undo(self)\n",
        "\n",
        "that simulates such a button. As an added precaution, make sure that the operator cannot click the undo button more often than the click button.\n",
        "\n",
        "Test the program so that the output can be viewed."
      ],
      "metadata": {
        "id": "4ff394GvS2XB"
      }
    },
    {
      "cell_type": "code",
      "source": [
        "%%writefile counter.py\n",
        "##\n",
        "#  This module defines the Counter class.\n",
        "#\n",
        "\n",
        "## Models a tally counter whose value can be incremented, viewed, or reset.\n",
        "#\n",
        "class Counter :\n",
        "   ## Gets the current value of this counter.\n",
        "   ##  @return the current value\n",
        "   #\n",
        "   def __init__(self) -> None:\n",
        "      self._value=0\n",
        "\n",
        "   def getValue(self) :\n",
        "      return self._value\n",
        "\n",
        "   ## Advances the value of this counter by 1.\n",
        "   #\n",
        "   def click(self) :\n",
        "      self._value = self._value + 1\n",
        "\n",
        "   ## Resets the value of this counter to 0.\n",
        "   #\n",
        "   def reset(self) :\n",
        "      self._value = 0\n",
        "\n",
        "   ## Undo a previous click operation.\n",
        "   #\n",
        "   def undo(self) :\n",
        "    if self._value > 0 :\n",
        "      self._value = self._value - 1"
      ],
      "metadata": {
        "id": "HdEp5ypBS1H2",
        "colab": {
          "base_uri": "https://localhost:8080/"
        },
        "outputId": "332585ba-6902-4429-df85-b18fc5e232d6"
      },
      "execution_count": 1,
      "outputs": [
        {
          "output_type": "stream",
          "name": "stdout",
          "text": [
            "Overwriting counter.py\n"
          ]
        }
      ]
    },
    {
      "cell_type": "markdown",
      "source": [
        "Write your test program below.  Instantiate the class and then click several times and then print the value.  Then undo a click and print the value.  Then reset and print the value."
      ],
      "metadata": {
        "id": "-_F2foErlLqY"
      }
    },
    {
      "cell_type": "code",
      "source": [
        "from counter import Counter\n",
        "\n",
        "count = Counter()\n",
        "count.reset()\n",
        "count.click()\n",
        "count.click()\n",
        "count.click()\n",
        "result = count.getValue()\n",
        "print(result)\n",
        "count.undo()\n",
        "print(count.getValue())"
      ],
      "metadata": {
        "id": "wcPWw4LWlbNn",
        "colab": {
          "base_uri": "https://localhost:8080/"
        },
        "outputId": "0ec2b0a0-8a33-4e1c-ca59-877c53d58b49"
      },
      "execution_count": 2,
      "outputs": [
        {
          "output_type": "stream",
          "name": "stdout",
          "text": [
            "3\n",
            "2\n"
          ]
        }
      ]
    },
    {
      "cell_type": "markdown",
      "source": [
        "2)\n",
        "Simulate a tally counter that can be used to admit a limited number of people. First, the limit is set with a call to\n",
        "\n",
        "def setLimit(self, maximum)\n",
        "\n",
        "If the click button is clicked more often than the limit, simulate an alarm by printing out a message “Limit exceeded”.\n"
      ],
      "metadata": {
        "id": "esUzZcDvTZWj"
      }
    },
    {
      "cell_type": "code",
      "source": [
        "%%writefile counter.py\n",
        "#When you complete your class, uncomment out the # at the beginning of this line to write it to a .py file\n",
        "##\n",
        "#  This module defines the Counter class.\n",
        "#\n",
        "\n",
        "## Models a tally counter whose value can be incremented, viewed, or reset.\n",
        "#\n",
        "class Counter :\n",
        "   ## Gets the current value of this counter.\n",
        "   ##  @return the current value\n",
        "   #\n",
        " def __init__(self):\n",
        "      self._value = 0\n",
        "      self._limit = 0\n",
        "\n",
        " def getValue(self) :\n",
        "      return self._value\n",
        "\n",
        "   ## Advances the value of this counter by 1.\n",
        "   #\n",
        " def click(self) :\n",
        "    if self._value == self._limit:\n",
        "       print(\"Limit Exceeded\")\n",
        "    else :\n",
        "      self._value = self._value + 1\n",
        "\n",
        "   ## Resets the value of this counter to 0.\n",
        "   #\n",
        " def reset(self) :\n",
        "    self._value = 0\n",
        "    self._limit = 0\n",
        "\n",
        "   ## Set the limit for the counter.\n",
        "   #\n",
        " def setLimit(self, maximum) :\n",
        "    self._limit = maximum\n"
      ],
      "metadata": {
        "id": "5tHHjWtbTlWp",
        "colab": {
          "base_uri": "https://localhost:8080/"
        },
        "outputId": "9f05e97b-26b6-4a2d-b4eb-2b0c80612bf1"
      },
      "execution_count": 1,
      "outputs": [
        {
          "output_type": "stream",
          "name": "stdout",
          "text": [
            "Overwriting counter.py\n"
          ]
        }
      ]
    },
    {
      "cell_type": "markdown",
      "source": [
        "Use the code below to test your class when you are finished."
      ],
      "metadata": {
        "id": "ajPlYGbmXESz"
      }
    },
    {
      "cell_type": "code",
      "source": [
        "##\n",
        "#  This program demonstrates the Counter class.\n",
        "#\n",
        "\n",
        "# Import the Counter class from the counter module.\n",
        "from counter import Counter\n",
        "\n",
        "tally = Counter()\n",
        "tally.reset()\n",
        "tally.setLimit(2)\n",
        "tally.click()\n",
        "tally.click()\n",
        "\n",
        "result = tally.getValue()\n",
        "print(\"Value:\", result)\n",
        "\n",
        "tally.click()\n",
        "result = tally.getValue()\n",
        "print(\"Value:\", result)\n",
        "\n",
        "tally.click()\n",
        "result = tally.getValue()\n",
        "print(\"Value:\", result)"
      ],
      "metadata": {
        "id": "7sMsD_apXIHs",
        "colab": {
          "base_uri": "https://localhost:8080/"
        },
        "outputId": "7a7b3561-1155-45d0-d2a0-ca6d512dcbbf"
      },
      "execution_count": 4,
      "outputs": [
        {
          "output_type": "stream",
          "name": "stdout",
          "text": [
            "Value: 2\n",
            "Limit Exceeded\n",
            "Value: 2\n",
            "Limit Exceeded\n",
            "Value: 2\n"
          ]
        }
      ]
    },
    {
      "cell_type": "markdown",
      "source": [
        "3)\n",
        "Implement a class Address. An address has a house number, a street, an optional apartment number, a city, a state, and a postal code.\n",
        "\n",
        "Define the constructor such that an object can be created in one of two ways: with an apartment number or without.\n",
        "\n",
        "Supply a print method that prints the address with the street on one line and the city, state, and postal code on the next line.\n",
        "\n",
        "Supply a method\n",
        "\n",
        "def comesBefore(self, other)\n",
        "\n",
        "that tests whether this address comes before other when compared by postal code.\n"
      ],
      "metadata": {
        "id": "7faTskh2UHjx"
      }
    },
    {
      "cell_type": "code",
      "source": [
        "%%writefile address.py\n",
        "#When you complete your class, uncomment out the # at the beginning of the previous line to write it to a .py file\n",
        "##\n",
        "#  This module defines the Address class.\n",
        "#\n",
        "\n",
        "##\n",
        "#  An address that stores house number, street number, optional apartment\n",
        "#  number, city, state and postal code.\n",
        "class Address :\n",
        "   ## Constructs an address without an apartment number.\n",
        "   ##  @param house the house number\n",
        "   # # @param street the street name\n",
        "   ##  @param apt the apartment number\n",
        "   # # @param city the name of the city\n",
        "   # # @param state the name of the state\n",
        "   # # @param postal the postal code\n",
        "   #\n",
        "   def __init__(self, house, street, city, state, postal, apt = \"\") :\n",
        "      self._house = house\n",
        "      self._street = street\n",
        "      self._apt = apt\n",
        "      self._city = city\n",
        "      self._state = state\n",
        "      self._postal = postal\n",
        "\n",
        "   ## Prints an address.\n",
        "   #\n",
        "   def Print(self) :\n",
        "      if self._apt != \"\" :\n",
        "         print(\"%s-\" % self._apt, end=\"\")\n",
        "      print(self._house, self._street)\n",
        "      print(\"%s, %s  %s\" % (self._city, self._state, self._postal))\n",
        "\n",
        "   ## Determine if one address comes before another by postal code.\n",
        "   # # @param other the other address to consider for comparison\n",
        "   ##  @return True if self is less than other, False otherwise\n",
        "   #\n",
        "   def comesBefore(self, other) :\n",
        "      return self._postal < other._postal"
      ],
      "metadata": {
        "id": "099h8I-2UFao",
        "colab": {
          "base_uri": "https://localhost:8080/"
        },
        "outputId": "1a0218eb-8685-4548-cff7-ff99087bf147"
      },
      "execution_count": 5,
      "outputs": [
        {
          "output_type": "stream",
          "name": "stdout",
          "text": [
            "Writing address.py\n"
          ]
        }
      ]
    },
    {
      "cell_type": "markdown",
      "source": [
        "The below will test your class"
      ],
      "metadata": {
        "id": "GhFlPXV6UjPO"
      }
    },
    {
      "cell_type": "code",
      "source": [
        "\n",
        "#  Demonstrate the address class.\n",
        "#\n",
        "from address import Address\n",
        "\n",
        "# Construct two address.\n",
        "a = Address(2500, \"University Drive\", \"Some City\", \"Some State\", \"12345\")\n",
        "b = Address(1200, \"College Blvd\", \"Other City\", \"Other State\", \"99102\", \"12\")\n",
        "\n",
        "# Demonstrate the print method.\n",
        "print(\"Address a is:\")\n",
        "a.Print()\n",
        "print()\n",
        "\n",
        "print(\"Address b is:\")\n",
        "b.Print()\n",
        "print()\n",
        "\n",
        "# Demonstrate the comesBefore method.\n",
        "print(\"a comes before b is\", a.comesBefore(b))"
      ],
      "metadata": {
        "id": "yEV5wA19Uh30",
        "colab": {
          "base_uri": "https://localhost:8080/"
        },
        "outputId": "5fbc1ab0-34e5-47d9-8781-9e8aa0ed9f6c"
      },
      "execution_count": 8,
      "outputs": [
        {
          "output_type": "stream",
          "name": "stdout",
          "text": [
            "Address a is:\n",
            "2500 University Drive\n",
            "Some City, Some State  12345\n",
            "\n",
            "Address b is:\n",
            "12-1200 College Blvd\n",
            "Other City, Other State  99102\n",
            "\n",
            "a comes before b is True\n"
          ]
        }
      ]
    },
    {
      "cell_type": "markdown",
      "source": [
        "4)\n",
        "\n",
        "Implement a class SodaCan with methods getSurfaceArea() and getVolume(). In the constructor, supply the height and radius of the can.\n",
        "\n",
        "Surface area of the can is equal to 2 x pi x radius x height + 2 x pi x radius squared\n",
        "\n",
        "Cylinder suface area=2πrh+2πr2\n",
        "\n",
        "Cylinder volume = πr2h\n",
        "\n",
        "**note: r2 means r squared in the formulas above**\n"
      ],
      "metadata": {
        "id": "F4j-N-F5XbbA"
      }
    },
    {
      "cell_type": "code",
      "source": [
        "%%writefile sodacan.py\n",
        "#When you complete your class, uncomment out the # at the previous line to write it to a .py file\n",
        "##\n",
        "#  This module defines the SodaCan class.\n",
        "#\n",
        "from math import pi\n",
        "\n",
        "##\n",
        "#  A soda can that has a height and a radius.\n",
        "class SodaCan :\n",
        "   ## Constructs a new soda can.\n",
        "   ##  @param height the height of the can\n",
        "   ##  @param radius the radius of the can\n",
        "   #\n",
        "   def __init__(self, height, radius) :\n",
        "      self._height = height\n",
        "      self._radius = radius\n",
        "\n",
        "   ## Compute the surface area of the can.\n",
        "   ##  @return the surface area of the can\n",
        "   #\n",
        "   def getSurfaceArea(self) :\n",
        "    return (2 * (pi *(self._radius * self._height))) + (2 *(pi * (self._radius **2)))\n",
        "\n",
        "   ## Compute the volume of the can.\n",
        "   ##  @return the volume of the can\n",
        "   #\n",
        "   def getVolume(self) :\n",
        "    return (pi * ((self._radius ** 2) * self._height))"
      ],
      "metadata": {
        "id": "w7ixkLR6Xj6n",
        "colab": {
          "base_uri": "https://localhost:8080/"
        },
        "outputId": "05f20a90-281c-4f54-e32e-5eb17148bee5"
      },
      "execution_count": 1,
      "outputs": [
        {
          "output_type": "stream",
          "name": "stdout",
          "text": [
            "Overwriting sodacan.py\n"
          ]
        }
      ]
    },
    {
      "cell_type": "markdown",
      "source": [
        "4b)\n",
        "\n",
        "Write a tester program that imports SodaCan from sodacan.py and then does three different runs using three different object names:<br>\n",
        "height 4, radius 2<br>\n",
        "height 5 radius 3<br>\n",
        "height 6 radius 4<br><br>\n",
        "\n",
        "You should print volume and surface area for each run above after instantiating all three"
      ],
      "metadata": {
        "id": "LVqNkmE_YGsv"
      }
    },
    {
      "cell_type": "code",
      "source": [
        "from sodacan import SodaCan\n",
        "\n",
        "x = SodaCan(4,2)\n",
        "print(x.getSurfaceArea())\n",
        "print(x.getVolume())\n",
        "\n",
        "y = SodaCan(5,3)\n",
        "print(y.getSurfaceArea())\n",
        "print(y.getVolume())\n",
        "\n",
        "z = SodaCan(6,4)\n",
        "print(z.getSurfaceArea())\n",
        "print(z.getVolume())"
      ],
      "metadata": {
        "id": "sGP5pLU4YRF8",
        "colab": {
          "base_uri": "https://localhost:8080/"
        },
        "outputId": "9f30caf8-659f-4cf6-c13a-2fd1ff354cd4"
      },
      "execution_count": 3,
      "outputs": [
        {
          "output_type": "stream",
          "name": "stdout",
          "text": [
            "75.39822368615503\n",
            "50.26548245743669\n",
            "150.79644737231007\n",
            "141.3716694115407\n",
            "251.32741228718345\n",
            "301.59289474462014\n"
          ]
        }
      ]
    }
  ],
  "metadata": {
    "kernelspec": {
      "display_name": "Python 3 (ipykernel)",
      "language": "python",
      "name": "python3"
    },
    "language_info": {
      "codemirror_mode": {
        "name": "ipython",
        "version": 3
      },
      "file_extension": ".py",
      "mimetype": "text/x-python",
      "name": "python",
      "nbconvert_exporter": "python",
      "pygments_lexer": "ipython3",
      "version": "3.9.7"
    },
    "colab": {
      "provenance": []
    }
  },
  "nbformat": 4,
  "nbformat_minor": 0
}