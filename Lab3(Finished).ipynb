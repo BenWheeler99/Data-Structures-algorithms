{
  "cells": [
    {
      "cell_type": "markdown",
      "metadata": {
        "id": "vXJ__dbwi9BX"
      },
      "source": [
        "# **Lab 3**"
      ]
    },
    {
      "cell_type": "markdown",
      "source": [
        "1)\n",
        "Add a class NumericQuestion to the question hierarchy below. If the response and the expected answer differ by no more than 0.01, then accept the response as correct.  You have only to complete the if statement at the bottom of the new class."
      ],
      "metadata": {
        "id": "GdX8SpAyb-I5"
      }
    },
    {
      "cell_type": "code",
      "source": [
        "%%writefile questions.py\n",
        "#  This module defines a hierarchy of classes that model exam questions.\n",
        "#\n",
        "\n",
        "## A question with a text and an answer.\n",
        "#\n",
        "class Question :\n",
        "   ## Constructs a question with empty question and answer strings.\n",
        "   #\n",
        "   def __init__(self) :\n",
        "      self._text = \"\"\n",
        "      self._answer = \"\"\n",
        "\n",
        "   ##  Sets the question text.\n",
        "   ##   @param questionText the text of this question\n",
        "   #\n",
        "   def setText(self, questionText) :\n",
        "      self._text = questionText\n",
        "\n",
        "   ## Sets the answer for this question.\n",
        "   # # @param correctResponse the answer\n",
        "   #\n",
        "   def setAnswer(self, correctResponse) :\n",
        "      self._answer = correctResponse\n",
        "\n",
        "   ## Checks a given response for correctness.\n",
        "   # # @param response the response to check\n",
        "   # # @return True if the response was correct, False otherwise\n",
        "   #\n",
        "   def checkAnswer(self, response) :\n",
        "      return response == self._answer\n",
        "\n",
        "   def GetAnswer(self, response) :\n",
        "      return self._answer\n",
        "\n",
        "   ## Displays this question.\n",
        "   #\n",
        "   def display(self) :\n",
        "      print(self._text)\n",
        "\n",
        "## A question with multiple choices.\n",
        "#\n",
        "class ChoiceQuestion(Question) :\n",
        "   # Constructs a choice question with no choices.\n",
        "   def __init__(self) :\n",
        "      super().__init__()\n",
        "      self._choices = []\n",
        "\n",
        "   ## Adds an answer choice to this question.\n",
        "   ## @param choice the choice to add\n",
        "   ##  @param correct True if this is the correct choice, False otherwise\n",
        "   #\n",
        "   def addChoice(self, choice, correct) :\n",
        "      self._choices.append(choice)\n",
        "      if correct :\n",
        "         # Convert len(choices) to string.\n",
        "         choiceString = str(len(self._choices))\n",
        "         self.setAnswer(choiceString)\n",
        "\n",
        "   # Override Question.display().\n",
        "   def display(self) :\n",
        "      # Display the question text.\n",
        "      super().display()\n",
        "\n",
        "      # Display the answer choices.\n",
        "      for i in range(len(self._choices)) :\n",
        "         choiceNumber = i + 1\n",
        "         print(\"%d: %s\" % (choiceNumber, self._choices[i]))\n",
        "\n",
        "## A question with a numeric response that must be within 0.01.\n",
        "#\n",
        "class NumericQuestion(Question) :\n",
        "   # Constructs a numeric question.\n",
        "   def __init__(self) :\n",
        "      super().__init__()\n",
        "\n",
        "   ## Checks a given response for correctness.\n",
        "   ##  @param response the response to check\n",
        "   ##  @return True if the response was correct, False otherwise\n",
        "   #\n",
        "   def checkAnswer(self, response) :\n",
        "    #you only need to complete the if statement below to solve this problem.\n",
        "      if response >= self._answer - 0.01 and response <= self._answer + 0.01 or response == self._answer :\n",
        "        return True\n",
        "      return False"
      ],
      "metadata": {
        "id": "doWV1Vkvb9XY",
        "colab": {
          "base_uri": "https://localhost:8080/"
        },
        "outputId": "ebc4e83f-9b51-404b-9325-43149a2577cd"
      },
      "execution_count": 1,
      "outputs": [
        {
          "output_type": "stream",
          "name": "stdout",
          "text": [
            "Overwriting questions.py\n"
          ]
        }
      ]
    },
    {
      "cell_type": "markdown",
      "source": [
        "Check your class with code below"
      ],
      "metadata": {
        "id": "3c7i-d7aeEYb"
      }
    },
    {
      "cell_type": "code",
      "source": [
        "from questions import NumericQuestion\n",
        "\n",
        "q1 = NumericQuestion()\n",
        "q1.setText('What is 5 x 5')\n",
        "q1.setAnswer(25.0)\n",
        "q1.display()"
      ],
      "metadata": {
        "id": "DmtmBZvDeJGR",
        "colab": {
          "base_uri": "https://localhost:8080/"
        },
        "outputId": "8b0f84c0-a505-42fe-d6b2-f281b2ba068f"
      },
      "execution_count": 2,
      "outputs": [
        {
          "output_type": "stream",
          "name": "stdout",
          "text": [
            "What is 5 x 5\n"
          ]
        }
      ]
    },
    {
      "cell_type": "code",
      "source": [
        "q1.checkAnswer(25.001)"
      ],
      "metadata": {
        "id": "yheAL9HSvjgR",
        "colab": {
          "base_uri": "https://localhost:8080/"
        },
        "outputId": "046d8859-feb4-4184-a389-1b042824017c"
      },
      "execution_count": 3,
      "outputs": [
        {
          "output_type": "execute_result",
          "data": {
            "text/plain": [
              "True"
            ]
          },
          "metadata": {},
          "execution_count": 3
        }
      ]
    },
    {
      "cell_type": "code",
      "source": [
        "q1.checkAnswer(25.02)"
      ],
      "metadata": {
        "id": "Fo-Xs2GIvfnx",
        "colab": {
          "base_uri": "https://localhost:8080/"
        },
        "outputId": "6de01bc6-8fe5-48b8-ddb8-afa240e86513"
      },
      "execution_count": 4,
      "outputs": [
        {
          "output_type": "execute_result",
          "data": {
            "text/plain": [
              "False"
            ]
          },
          "metadata": {},
          "execution_count": 4
        }
      ]
    },
    {
      "cell_type": "code",
      "source": [
        "q1.checkAnswer(23)"
      ],
      "metadata": {
        "id": "XIc6hOXtxspg",
        "colab": {
          "base_uri": "https://localhost:8080/"
        },
        "outputId": "8f90ea4f-444a-4947-d3b4-bcc26c8c7594"
      },
      "execution_count": 5,
      "outputs": [
        {
          "output_type": "execute_result",
          "data": {
            "text/plain": [
              "False"
            ]
          },
          "metadata": {},
          "execution_count": 5
        }
      ]
    },
    {
      "cell_type": "code",
      "source": [
        "q1.checkAnswer(25.5)"
      ],
      "metadata": {
        "id": "ncBdqGjPx1G8",
        "colab": {
          "base_uri": "https://localhost:8080/"
        },
        "outputId": "302384ea-e06e-4cb3-f5b1-4547aa0a3e6d"
      },
      "execution_count": 6,
      "outputs": [
        {
          "output_type": "execute_result",
          "data": {
            "text/plain": [
              "False"
            ]
          },
          "metadata": {},
          "execution_count": 6
        }
      ]
    },
    {
      "cell_type": "code",
      "source": [
        "q1.checkAnswer(24.98)"
      ],
      "metadata": {
        "id": "-QzYaiDEyWpk",
        "colab": {
          "base_uri": "https://localhost:8080/"
        },
        "outputId": "632c6347-729f-4995-9ccb-1a22e1e57aec"
      },
      "execution_count": 7,
      "outputs": [
        {
          "output_type": "execute_result",
          "data": {
            "text/plain": [
              "False"
            ]
          },
          "metadata": {},
          "execution_count": 7
        }
      ]
    },
    {
      "cell_type": "code",
      "source": [
        "q1.checkAnswer(24.99)"
      ],
      "metadata": {
        "id": "78zLgj_Kyfpj",
        "colab": {
          "base_uri": "https://localhost:8080/"
        },
        "outputId": "e0ec16ce-5723-4212-a46e-51470e386261"
      },
      "execution_count": 8,
      "outputs": [
        {
          "output_type": "execute_result",
          "data": {
            "text/plain": [
              "True"
            ]
          },
          "metadata": {},
          "execution_count": 8
        }
      ]
    },
    {
      "cell_type": "code",
      "source": [
        "q1.checkAnswer(25)"
      ],
      "metadata": {
        "colab": {
          "base_uri": "https://localhost:8080/"
        },
        "id": "tTvA64yyyC3S",
        "outputId": "e362deeb-7f38-4017-eb77-c6715f20d17d"
      },
      "execution_count": 9,
      "outputs": [
        {
          "output_type": "execute_result",
          "data": {
            "text/plain": [
              "True"
            ]
          },
          "metadata": {},
          "execution_count": 9
        }
      ]
    },
    {
      "cell_type": "markdown",
      "source": [
        "2)\n",
        "\n",
        "Modify the checkAnswer method of the Question class so that it does not take into account upper/lowercase characters. For example, the response \"GUIDO van Rossum\" should match an answer of \"Guido van Rossum\".\n",
        "\n",
        "Hint: you need to modify the set answer method so that the answer is stored in upper case and then complete the if statement in check answer method\n"
      ],
      "metadata": {
        "id": "m0p4571Hy8kX"
      }
    },
    {
      "cell_type": "code",
      "source": [
        "\n",
        "#  This module defines a hierarchy of classes that model exam questions.\n",
        "#\n",
        "\n",
        "## A question with a text and an answer.\n",
        "#\n",
        "class Question :\n",
        "   ## Constructs a question with empty question and answer strings.\n",
        "   #\n",
        "   def __init__(self) :\n",
        "      self._text = \"\"\n",
        "      self._answer = \"\"\n",
        "\n",
        "   ##  Sets the question text.\n",
        "   # #  @param questionText the text of this question\n",
        "   #\n",
        "   def setText(self, questionText) :\n",
        "      self._text = questionText\n",
        "\n",
        "   ## Sets the answer for this question.\n",
        "   ##  @param correctResponse the answer\n",
        "   #\n",
        "   def setAnswer(self, correctResponse) :\n",
        "      self._answer = correctResponse.upper()\n",
        "\n",
        "   ## Checks a given response for correctness.\n",
        "   ##  @param response the response to check\n",
        "   ##  @return True if the response was correct, False otherwise\n",
        "   #\n",
        "   def checkAnswer(self, response) :\n",
        "      if response.upper() == self._answer.upper():\n",
        "        return True\n",
        "      return False\n",
        "\n",
        "\n",
        "   ## Displays this question.\n",
        "   #\n",
        "   def display(self) :\n",
        "      print(self._text)\n",
        "\n",
        "## A question with multiple choices.\n",
        "#\n",
        "class ChoiceQuestion(Question) :\n",
        "   # Constructs a choice question with no choices.\n",
        "   def __init__(self) :\n",
        "      super().__init__()\n",
        "      self._choices = []\n",
        "\n",
        "   ## Adds an answer choice to this question.\n",
        "   ## @param choice the choice to add\n",
        "   ##  @param correct True if this is the correct choice, False otherwise\n",
        "   #\n",
        "   def addChoice(self, choice, correct) :\n",
        "      self._choices.append(choice)\n",
        "      if correct :\n",
        "         # Convert len(choices) to string.\n",
        "         choiceString = str(len(self._choices))\n",
        "         self.setAnswer(choiceString)\n",
        "\n",
        "   # Override Question.display().\n",
        "   def display(self) :\n",
        "      # Display the question text.\n",
        "      super().display()\n",
        "\n",
        "      # Display the answer choices.\n",
        "      for i in range(len(self._choices)) :\n",
        "         choiceNumber = i + 1\n",
        "         print(\"%d: %s\" % (choiceNumber, self._choices[i]))\n",
        "\n",
        "\n"
      ],
      "metadata": {
        "id": "Uei1FwdU0ARP"
      },
      "execution_count": null,
      "outputs": []
    },
    {
      "cell_type": "markdown",
      "source": [
        "Check with the code below."
      ],
      "metadata": {
        "id": "fMeaJ-Xa1nTg"
      }
    },
    {
      "cell_type": "code",
      "source": [
        "\n",
        "q1 = Question()\n",
        "q1.setText('Who invented Python')\n",
        "q1.setAnswer('Guido van Rossum')\n",
        "q1.display()"
      ],
      "metadata": {
        "id": "o80v3LTI1H2Z",
        "colab": {
          "base_uri": "https://localhost:8080/"
        },
        "outputId": "0a68c099-188c-45e3-deae-983578755ce3"
      },
      "execution_count": null,
      "outputs": [
        {
          "output_type": "stream",
          "name": "stdout",
          "text": [
            "Who invented Python\n"
          ]
        }
      ]
    },
    {
      "cell_type": "code",
      "source": [
        "q1.checkAnswer('GuidO VAN RossuM')"
      ],
      "metadata": {
        "id": "jKM4J69T1V_g",
        "colab": {
          "base_uri": "https://localhost:8080/"
        },
        "outputId": "e9dc32d7-13de-4bb6-ed04-fdae8db7e61f"
      },
      "execution_count": null,
      "outputs": [
        {
          "output_type": "execute_result",
          "data": {
            "text/plain": [
              "True"
            ]
          },
          "metadata": {},
          "execution_count": 13
        }
      ]
    },
    {
      "cell_type": "code",
      "source": [
        "#Quiz Help Section\n",
        "\n",
        "class Contact :\n",
        "   def __init__(self, name, phone=\"\"):\n",
        "      self._name = name\n",
        "      self._phone = phone\n",
        "\n",
        "   def getName(self) :\n",
        "      return self._name\n",
        "\n",
        "   def setName(self, new_name) :\n",
        "      self._name = new_name\n",
        "\n",
        "   def getPhone(self) :\n",
        "      return self._phone\n",
        "\n",
        "   def setPhone(self, new_phone) :\n",
        "      self._phone = new_phone"
      ],
      "metadata": {
        "id": "VYBb9XpbBr_9"
      },
      "execution_count": null,
      "outputs": []
    },
    {
      "cell_type": "code",
      "source": [
        "p1 = Contact(\"Bob\", \"555-123-4567\")\n",
        "p2 = Contact(\"Joe\", \"555-000-0000\")\n",
        "p1.setName(p2.getName())\n",
        "\n",
        "print(p1.getPhone())"
      ],
      "metadata": {
        "colab": {
          "base_uri": "https://localhost:8080/"
        },
        "id": "oFQ945r1ByWO",
        "outputId": "e336330a-6e07-4ef1-c155-70432f0206f9"
      },
      "execution_count": null,
      "outputs": [
        {
          "output_type": "stream",
          "name": "stdout",
          "text": [
            "555-123-4567\n"
          ]
        }
      ]
    },
    {
      "cell_type": "code",
      "source": [
        "class PhoneNumber :\n",
        "\n",
        "   def __init__(self, lName, phone = \"215-555-1212\") :\n",
        "      self._name = lName\n",
        "      self._phone = phone\n",
        "\n",
        "   def getName(self):\n",
        "      return self._name\n",
        "\n",
        "   def getPhone(self):\n",
        "      return self._phone\n",
        "\n",
        "Jones = PhoneNumber(\"Jones\")\n",
        "print(Jones.getName(), Jones.getPhone())"
      ],
      "metadata": {
        "colab": {
          "base_uri": "https://localhost:8080/"
        },
        "id": "-jEt0GNkC87L",
        "outputId": "0ae27a13-eae2-419e-f60b-77d62f0dc84f"
      },
      "execution_count": null,
      "outputs": [
        {
          "output_type": "stream",
          "name": "stdout",
          "text": [
            "Jones 215-555-1212\n"
          ]
        }
      ]
    },
    {
      "cell_type": "code",
      "source": [
        "[\"Hello\", \"World\"].lower()"
      ],
      "metadata": {
        "colab": {
          "base_uri": "https://localhost:8080/",
          "height": 144
        },
        "id": "dGYgr_HnD_u9",
        "outputId": "e8e1c008-3cca-47b6-e92f-11d6c0d36da7"
      },
      "execution_count": null,
      "outputs": [
        {
          "output_type": "error",
          "ename": "AttributeError",
          "evalue": "'list' object has no attribute 'lower'",
          "traceback": [
            "\u001b[0;31m---------------------------------------------------------------------------\u001b[0m",
            "\u001b[0;31mAttributeError\u001b[0m                            Traceback (most recent call last)",
            "\u001b[0;32m<ipython-input-9-01369a4447cd>\u001b[0m in \u001b[0;36m<cell line: 1>\u001b[0;34m()\u001b[0m\n\u001b[0;32m----> 1\u001b[0;31m \u001b[0;34m[\u001b[0m\u001b[0;34m\"Hello\"\u001b[0m\u001b[0;34m,\u001b[0m \u001b[0;34m\"World\"\u001b[0m\u001b[0;34m]\u001b[0m\u001b[0;34m.\u001b[0m\u001b[0mlower\u001b[0m\u001b[0;34m(\u001b[0m\u001b[0;34m)\u001b[0m\u001b[0;34m\u001b[0m\u001b[0;34m\u001b[0m\u001b[0m\n\u001b[0m",
            "\u001b[0;31mAttributeError\u001b[0m: 'list' object has no attribute 'lower'"
          ]
        }
      ]
    }
  ],
  "metadata": {
    "kernelspec": {
      "display_name": "Python 3 (ipykernel)",
      "language": "python",
      "name": "python3"
    },
    "language_info": {
      "codemirror_mode": {
        "name": "ipython",
        "version": 3
      },
      "file_extension": ".py",
      "mimetype": "text/x-python",
      "name": "python",
      "nbconvert_exporter": "python",
      "pygments_lexer": "ipython3",
      "version": "3.9.7"
    },
    "colab": {
      "provenance": []
    }
  },
  "nbformat": 4,
  "nbformat_minor": 0
}