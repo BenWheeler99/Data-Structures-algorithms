{
  "cells": [
    {
      "cell_type": "markdown",
      "metadata": {
        "id": "vXJ__dbwi9BX"
      },
      "source": [
        "# **Lab**"
      ]
    },
    {
      "cell_type": "markdown",
      "source": [
        "1)\n",
        "\n",
        " **Notes:** <br>\n",
        " Sphere surface area=<br>\n",
        " 4  \\* radius \\* radius \\* pi<br><br>\n",
        " Sphere Volume=<br>\n",
        " 4/3 \\* pi \\* radius \\* radius \\* radius<br><br>\n",
        " Circumference=<br>\n",
        " 2 \\* pi \\* radius<br>\n",
        "\n",
        " Write a program that takes the radius of a sphere (a floating-point number) as input and outputs the sphere’s diameter, circumference, surface area, and volume.\n",
        "\n",
        " To test your program, enter 4 for the radius.\n",
        "\n",
        " Round your answers to 2 decimal places."
      ],
      "metadata": {
        "id": "uoQaNRY_QniE"
      }
    },
    {
      "cell_type": "code",
      "source": [
        "# Write your code below:\n",
        "import math\n",
        "\n",
        "def main():\n",
        "  # Request the input\n",
        "  radius = float(input(\"Enter the sphere's radius: \"))\n",
        "\n",
        "  # Compute the results\n",
        "  diameter = 2 * radius\n",
        "  circumference = 2 * 3.14 * radius\n",
        "  surfaceArea = 4 * radius ** 2 * 3.14\n",
        "  volume = 4/3 * 3.14 * radius ** 3\n",
        "  # Display the results\n",
        "  print(\"Diameter     :\", round(diameter, 2))\n",
        "  print(\"Circumference:\", round(circumference, 2))\n",
        "  print(\"Surface area :\", round(surfaceArea, 2))\n",
        "  print(\"Volume       :\", round(volume, 2))\n",
        "\n",
        "if __name__ == \"__main__\":\n",
        "    main()\n"
      ],
      "metadata": {
        "id": "PRrZlnX1Q0bq",
        "colab": {
          "base_uri": "https://localhost:8080/"
        },
        "outputId": "550c4bcc-37ad-4eef-a04c-fcf07083fdb5"
      },
      "execution_count": null,
      "outputs": [
        {
          "output_type": "stream",
          "name": "stdout",
          "text": [
            "Enter the sphere's radius: 4\n",
            "Diameter     : 8.0\n",
            "Circumference: 25.12\n",
            "Surface area : 200.96\n",
            "Volume       : 267.95\n"
          ]
        }
      ]
    },
    {
      "cell_type": "markdown",
      "source": [
        "2)\n",
        " An employee’s total weekly pay equals the hourly wage multiplied by the total number of regular hours plus any overtime pay. Overtime pay equals the total overtime hours multiplied by 1.5 times the hourly wage.\n",
        "\n",
        " Write a program that takes as inputs the hourly wage, total regular hours, and total overtime hours and displays an employee’s total weekly pay.\n",
        "\n",
        "Test your program with:<br>\n",
        "wage=30<br>\n",
        "hours=40<br>\n",
        "OT hours=5"
      ],
      "metadata": {
        "id": "6uzIiA7mRQko"
      }
    },
    {
      "cell_type": "code",
      "source": [
        "#starter code\n",
        "\n",
        "def main():\n",
        "\n",
        "  # Write your code below:\n",
        "  # Request the inputs\n",
        "  wage = float(input(\"Enter the wage: $\"))\n",
        "  regularHours = float(input(\"Enter the regular hours: \"))\n",
        "  overtimeHours = float(input(\"Enter the overtime hours: \"))\n",
        "\n",
        "  # Compute the result\n",
        "  totalPay = ((overtimeHours * (wage * 1.5)) + (regularHours * wage))\n",
        "\n",
        "  # Display the result\n",
        "  print(\"The total weekly pay is $\" + str(round(totalPay, 2)))\n",
        "\n",
        "if __name__ == \"__main__\":\n",
        "    main()\n"
      ],
      "metadata": {
        "id": "0f0aD3SPSAzO",
        "colab": {
          "base_uri": "https://localhost:8080/"
        },
        "outputId": "2621d4c3-0b06-41ff-8b7d-ebd25de8da80"
      },
      "execution_count": null,
      "outputs": [
        {
          "output_type": "stream",
          "name": "stdout",
          "text": [
            "Enter the wage: $30\n",
            "Enter the regular hours: 40\n",
            "Enter the overtime hours: 5\n",
            "The total weekly pay is $1425.0\n"
          ]
        }
      ]
    },
    {
      "cell_type": "markdown",
      "source": [
        "3)\n",
        "\n",
        "Use the following code to write these numbers to a file called tfile.txt with one number per line<br><br>\n",
        "24 55 33 22 55<br>\n",
        "55 66 24 88 77<br>\n",
        "12 99 77 55 44<br><br>\n",
        "\n",
        "Then read them back in and add them up.\n",
        "\n",
        "Finally, print the sum."
      ],
      "metadata": {
        "id": "y9MEilrXfcud"
      }
    },
    {
      "cell_type": "code",
      "source": [
        "#starter code\n",
        "def main():\n",
        "    #first write them to your file\n",
        "    f = open(\"tfile.txt\", \"w\")\n",
        "    number =[24, 55, 33, 22, 55, 55, 66, 24, 88, 77, 12, 99, 77, 55, 44]\n",
        "\n",
        "    for i in number:\n",
        "      f.write(str(i) + \"\\n\")\n",
        "\n",
        "    f.close()\n",
        "\n",
        "    #now read them back in and add them\n",
        "    f = open(\"tfile.txt\", \"r\")\n",
        "    mySum = 0\n",
        "    for line in f:\n",
        "      if line != \" \":\n",
        "        #strip out unwanted\n",
        "        lin = line.lstrip()\n",
        "        number = int(lin)\n",
        "        mySum += number\n",
        "\n",
        "    print(\"The sum is\", mySum)\n",
        "\n",
        "    f.close()\n",
        "\n",
        "if __name__ == \"__main__\":\n",
        "    main()"
      ],
      "metadata": {
        "id": "jhtXFQJ2fdfj",
        "colab": {
          "base_uri": "https://localhost:8080/"
        },
        "outputId": "9f1b023e-a35f-4565-f534-d0b79b6edd41"
      },
      "execution_count": 3,
      "outputs": [
        {
          "output_type": "stream",
          "name": "stdout",
          "text": [
            "The sum is 786\n"
          ]
        }
      ]
    }
  ],
  "metadata": {
    "kernelspec": {
      "display_name": "Python 3 (ipykernel)",
      "language": "python",
      "name": "python3"
    },
    "language_info": {
      "codemirror_mode": {
        "name": "ipython",
        "version": 3
      },
      "file_extension": ".py",
      "mimetype": "text/x-python",
      "name": "python",
      "nbconvert_exporter": "python",
      "pygments_lexer": "ipython3",
      "version": "3.9.7"
    },
    "colab": {
      "provenance": []
    }
  },
  "nbformat": 4,
  "nbformat_minor": 0
}