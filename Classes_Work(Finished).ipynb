{
  "cells": [
    {
      "cell_type": "markdown",
      "metadata": {
        "id": "vXJ__dbwi9BX"
      },
      "source": [
        "# **In Class Work - Class Programming**"
      ]
    },
    {
      "cell_type": "markdown",
      "source": [
        "Here is the magic write command that writes a cell to a .py file so you can import it<br>\n",
        "**%%writefile address.py**  #replace address with the lowercase of your class name\n",
        "\n",
        "When you complete your class, place this command at the beginning of the cell to write it to a .py file so that you can import it with your tester program"
      ],
      "metadata": {
        "id": "KEZRpnO_uMet"
      }
    },
    {
      "cell_type": "code",
      "source": [
        "%%writefile example.py\n",
        "ab = 'This is code'\n",
        "a = 5\n"
      ],
      "metadata": {
        "colab": {
          "base_uri": "https://localhost:8080/"
        },
        "id": "r9FjB31tyl8y",
        "outputId": "f77f7729-ef2d-4096-82f0-c3115191194b"
      },
      "execution_count": null,
      "outputs": [
        {
          "output_type": "stream",
          "name": "stdout",
          "text": [
            "Writing example.py\n"
          ]
        }
      ]
    },
    {
      "cell_type": "code",
      "source": [
        "print(ab)\n",
        "print(a)"
      ],
      "metadata": {
        "id": "4ZoCElJizLFa"
      },
      "execution_count": null,
      "outputs": []
    },
    {
      "cell_type": "code",
      "source": [
        "import example\n",
        "\n",
        "print(example.ab)\n",
        "print(example.a)"
      ],
      "metadata": {
        "id": "_h5_xjA2yvN4"
      },
      "execution_count": null,
      "outputs": []
    },
    {
      "cell_type": "markdown",
      "source": [
        "6)\n",
        "\n",
        "Implement a class Car with the following properties. A car has a certain fuel efficiency (measured in miles/gallon) and a certain amount of fuel in the gas tank. The efficiency is specified in the constructor, and the initial fuel level is 0. Supply a method drive that simulates driving the car for a certain distance, reducing the fuel level in the gas tank, and methods getGasLevel, to return the current fuel level, and addGas, to tank up. Sample usage:\n",
        "\n",
        "myHybrid = Car(50)   # 50 miles per gallon<br>\n",
        "myHybrid.addGas(20)   # Tank 20 gallons<br>\n",
        "myHybrid.drive(100)   # Drive 100 miles<br>\n",
        "print(myHybrid.getGasLevel())   # Print fuel remaining\n",
        "\n",
        "Also, have some fun and add functionality that keeps track of the number of miles driven since last time gas was added.  Print the miles when you provide the gaslevel."
      ],
      "metadata": {
        "id": "uoQaNRY_QniE"
      }
    },
    {
      "cell_type": "code",
      "source": [
        "##\n",
        "#  This module defines the car class.\n",
        "#\n",
        "\n",
        "##\n",
        "#  A car that tracks its fuel consumption as it is driven.\n",
        "class Car :\n",
        "\n",
        "  def __init__(self, fuel_efficiency) :\n",
        "    self._gas = 0\n",
        "    self._fuel_efficiency = fuel_efficiency\n",
        "\n",
        "\n",
        "  def getGasLevel(self):\n",
        "    return self._gas\n",
        "\n",
        "  def drive(self,miles):\n",
        "    self._gas = self._gas - miles/self._fuel_efficiency\n",
        "\n",
        "  def addGas(self, amount):\n",
        "    self._gas = self._gas + amount\n",
        "  # self._gas += amount\n",
        "\n",
        "\n"
      ],
      "metadata": {
        "id": "PRrZlnX1Q0bq"
      },
      "execution_count": 11,
      "outputs": []
    },
    {
      "cell_type": "markdown",
      "source": [
        "Write a demo program that imports Car from car and does the following:<br>\n",
        "from car import Car\n",
        "\n",
        "myHybrid = Car(50)   <br>\n",
        "myHybrid.addGas(20)<br>\n",
        "myHybrid.drive(100)<br>\n",
        "print(myHybrid.getGasLevel())"
      ],
      "metadata": {
        "id": "8vvvC-jEsuWz"
      }
    },
    {
      "cell_type": "code",
      "source": [
        "#Demo the car class here\n",
        "\n",
        "myHybrid = Car(50)\n",
        "\n",
        "myHybrid.addGas(20)\n",
        "\n",
        "myHybrid.drive(100)\n",
        "\n",
        "print(myHybrid.getGasLevel())\n"
      ],
      "metadata": {
        "id": "-X8fzsmis5UQ",
        "colab": {
          "base_uri": "https://localhost:8080/"
        },
        "outputId": "41301820-cb53-4b56-d45b-b30462337e06"
      },
      "execution_count": 12,
      "outputs": [
        {
          "output_type": "stream",
          "name": "stdout",
          "text": [
            "18.0\n"
          ]
        }
      ]
    },
    {
      "cell_type": "markdown",
      "source": [
        "7)<br>\n",
        "Implement a class Student. For the purpose of this exercise, a student has a name and a total quiz score.\n",
        "\n",
        "Supply an appropriate constructor and methods getName(), addQuiz(score), getTotalScore(), and getAverageScore(). To compute the latter, you also need to store the number of quizzes that the student took."
      ],
      "metadata": {
        "id": "6uzIiA7mRQko"
      }
    },
    {
      "cell_type": "code",
      "source": [
        "##\n",
        "#  This module defines the student class.\n",
        "#\n",
        "\n",
        "##\n",
        "#  A student with a name and a total quiz score.\n",
        "class Student :\n",
        "\n",
        "  def __init__(self, name) :\n",
        "    self._num_quizzes = 0\n",
        "\n",
        "    self._name = name\n",
        "\n",
        "    self._score = 0\n",
        "\n",
        "  def getName(self):\n",
        "    return self._name\n",
        "\n",
        "  def addQuiz(self, score):\n",
        "    self._score = self._score + score\n",
        "    self._num_quizzes = self._num_quizzes + 1\n",
        "\n",
        "  def getTotalScore(self):\n",
        "    return self._score\n",
        "\n",
        "  def getAverageScore(self):\n",
        "    return self._score / self._num_quizzes\n"
      ],
      "metadata": {
        "id": "0f0aD3SPSAzO"
      },
      "execution_count": 16,
      "outputs": []
    },
    {
      "cell_type": "markdown",
      "source": [
        "Write a demo program that imports Student from student and does the following:<br>\n",
        "\n",
        "Adds quizes 80,90,80,95 and then prints total score then prints average score and then prints name.\n",
        "\n"
      ],
      "metadata": {
        "id": "-Jntr7qEuA5u"
      }
    },
    {
      "cell_type": "code",
      "source": [
        "Ben = Student(\"Ben Student\")\n",
        "Ben.getName()\n",
        "Ben.addQuiz(80)\n",
        "Ben.addQuiz(90)\n",
        "Ben.addQuiz(80)\n",
        "Ben.addQuiz(95)\n",
        "print(\"Total Score is \", Ben.getTotalScore())\n",
        "print(\"Average score is \", Ben.getAverageScore())\n",
        "print(Ben.getName())"
      ],
      "metadata": {
        "id": "DMpLfbZ2t0Kh",
        "colab": {
          "base_uri": "https://localhost:8080/"
        },
        "outputId": "12d3a248-a24e-4db0-aefa-b95cebfb810f"
      },
      "execution_count": 20,
      "outputs": [
        {
          "output_type": "stream",
          "name": "stdout",
          "text": [
            "Total Score is  345\n",
            "Average score is  86.25\n",
            "Ben Student\n"
          ]
        }
      ]
    },
    {
      "cell_type": "markdown",
      "source": [
        "8)<br>\n",
        "Modify the Student class above to compute grade point averages. Methods are needed to add a grade and get the current GPA. Specify grades as elements of a class Grade. Supply a constructor that constructs a grade from a string, such as \"B+\". You will also need a method that translates grades into their numeric values (for example, \"B+\" becomes 3.3)."
      ],
      "metadata": {
        "id": "57OcdFUZv8TB"
      }
    },
    {
      "cell_type": "code",
      "source": [
        "%%writefile grade.py\n",
        "##\n",
        "#  Define the grade class.\n",
        "#\n",
        "\n",
        "##\n",
        "#  A letter grade that can be converted to a number of grade points.\n",
        "class Grade :\n",
        "\n",
        "  def __init__(self, letter) :\n",
        "    self._letter = letter\n",
        "\n",
        "\n",
        "  def getGradePoints(self):\n",
        "      GRADE_POINTS = {\"A+\": 4.3, \"A\": 4, \"A-\": 3.7, \"B+\": 3.3, \"B\": 3, \"B-\":\n",
        "         2.7, \"C+\": 2.3, \"C\": 2, \"C-\": 1.7, \"D+\": 1.3, \"D\": 1, \"D-\": 0.7,\n",
        "         \"F\": 0}\n",
        "      return GRADE_POINTS[self._letter]\n"
      ],
      "metadata": {
        "id": "qqTEf9mIw_v2",
        "colab": {
          "base_uri": "https://localhost:8080/"
        },
        "outputId": "7ea9febd-545b-4c3e-feb6-fc6246a922a6"
      },
      "execution_count": 1,
      "outputs": [
        {
          "output_type": "stream",
          "name": "stdout",
          "text": [
            "Overwriting grade.py\n"
          ]
        }
      ]
    },
    {
      "cell_type": "code",
      "source": [
        "%%writefile student1.py\n",
        "##\n",
        "#  This module defines the student class.\n",
        "#\n",
        "from grade import Grade\n",
        "\n",
        "##\n",
        "#  A student with a name and a quiz GPA.\n",
        "class Student :\n",
        "\n",
        "  def __init__(self, name) :\n",
        "    self._name = name\n",
        "    self._grade_points = 0\n",
        "    self._num_quizzes = 0\n",
        "\n",
        "  def getName(self):\n",
        "    return self._name\n",
        "\n",
        "  def addQuiz(self, grade):\n",
        "    self._grade_points = self._grade_points + Grade(grade).getGradePoints()\n",
        "    self._num_quizzes = self._num_quizzes + 1\n",
        "\n",
        "  def getTotalScore(self):\n",
        "    return self._grade_points\n",
        "\n",
        "  def getAverageScore(self):\n",
        "    return self._grade_points / self._num_quizzes\n"
      ],
      "metadata": {
        "id": "1-nqRFbrwOil",
        "colab": {
          "base_uri": "https://localhost:8080/"
        },
        "outputId": "7ded5ea6-0661-43a3-ae75-873774aa5a71"
      },
      "execution_count": 2,
      "outputs": [
        {
          "output_type": "stream",
          "name": "stdout",
          "text": [
            "Overwriting student1.py\n"
          ]
        }
      ]
    },
    {
      "cell_type": "markdown",
      "source": [
        "Write a program to test the class"
      ],
      "metadata": {
        "id": "biVzikJA0R9O"
      }
    },
    {
      "cell_type": "code",
      "source": [
        "from student1 import Student\n",
        "\n",
        "Ben = Student(\"Ben\")\n",
        "\n",
        "Ben.addQuiz(\"A\")\n",
        "Ben.addQuiz(\"B+\")\n",
        "print(Ben.getTotalScore())\n",
        "print(Ben.getAverageScore())\n"
      ],
      "metadata": {
        "id": "p7LJZUs10b1Y",
        "colab": {
          "base_uri": "https://localhost:8080/"
        },
        "outputId": "337e7920-62aa-4c14-99db-7d6b8cc7c15f"
      },
      "execution_count": 3,
      "outputs": [
        {
          "output_type": "stream",
          "name": "stdout",
          "text": [
            "7.3\n",
            "3.65\n"
          ]
        }
      ]
    },
    {
      "cell_type": "markdown",
      "source": [
        "10)<br>\n",
        "Implement a VotingMachine class that can be used for a simple election. Have methods to clear the machine state, to vote for a Democrat, to vote for a Republican, and to get the tallies for both parties."
      ],
      "metadata": {
        "id": "nZh9GU-_xizk"
      }
    },
    {
      "cell_type": "code",
      "source": [
        "class VotingMachine :\n",
        "\n",
        "    def __init__(self) :\n",
        "      self._dem_count = 0\n",
        "      self._rep_count = 0\n",
        "\n",
        "    def voteDemocrat(self):\n",
        "      self._dem_count += 1\n",
        "\n",
        "    def voteRepublican(self):\n",
        "      self._rep_count += 1\n",
        "\n",
        "    def getTallies(self):\n",
        "      return (self._dem_count, self._rep_count)\n",
        "\n",
        "    def reset(self):\n",
        "      self._dem_count = 0\n",
        "      self._rep_count = 0"
      ],
      "metadata": {
        "id": "xap3RYVxzuga"
      },
      "execution_count": 4,
      "outputs": []
    },
    {
      "cell_type": "markdown",
      "source": [
        "Write a program to test the class"
      ],
      "metadata": {
        "id": "PkiTNPUy0Xyk"
      }
    },
    {
      "cell_type": "code",
      "source": [
        "vm = VotingMachine()\n",
        "\n",
        "vm.voteDemocrat()\n",
        "vm.voteDemocrat()\n",
        "vm.voteDemocrat()\n",
        "vm.voteRepublican()\n",
        "vm.voteRepublican()\n",
        "vm.voteRepublican()\n",
        "\n",
        "print(\"Democrats: %d \\nRepublican: %d\" % vm.getTallies())"
      ],
      "metadata": {
        "id": "ZWKEtn860ax1",
        "colab": {
          "base_uri": "https://localhost:8080/"
        },
        "outputId": "0c8c3771-520c-4ef5-ae86-bcc996221516"
      },
      "execution_count": 8,
      "outputs": [
        {
          "output_type": "stream",
          "name": "stdout",
          "text": [
            "Democrats: 3 \n",
            "Republican: 3\n"
          ]
        }
      ]
    },
    {
      "cell_type": "markdown",
      "source": [
        "11)<br>\n",
        "\n",
        "Provide a class Letter for authoring a simple letter. In the constructor, supply the names of the sender and the recipient:<br>\n",
        "\n",
        "def __init__(self, letterFrom, letterTo)<br>\n",
        "Supply a method<br><br>\n",
        "\n",
        "def addLine(self, line)<br>\n",
        "to add a line of text to the body of the letter. Supply a method<br><br>\n",
        "\n",
        "def getText(self)<br>\n",
        "that returns the entire text of the letter. The text has the form:<br><br>\n",
        "\n",
        "Dear recipient name:<br>\n",
        "blank line<br>\n",
        "first line of the body<br>\n",
        "second line of the body<br>\n",
        ". . .<br>\n",
        "last line of the body<br>\n",
        "blank line<br>\n",
        "Sincerely,<br>\n",
        "blank line<br>\n",
        "sender name<br>\n",
        "Also supply a driver program that prints the following letter.<br><br>\n",
        "\n",
        "Dear John:<br><br>\n",
        "  \n",
        "I am sorry we must part.<br>\n",
        "I wish you all the best.<br><br>\n",
        "  \n",
        "Sincerely,<br><br>\n",
        "  \n",
        "Mary<br><br>\n",
        "Construct an object of the Letter class and call addLine twice."
      ],
      "metadata": {
        "id": "35fbGZ98zvKt"
      }
    },
    {
      "cell_type": "code",
      "source": [],
      "metadata": {
        "id": "sepc98mD0LOQ"
      },
      "execution_count": null,
      "outputs": []
    },
    {
      "cell_type": "markdown",
      "source": [
        "Now test it"
      ],
      "metadata": {
        "id": "Uzwr4qW_0lFb"
      }
    },
    {
      "cell_type": "code",
      "source": [],
      "metadata": {
        "id": "KZd9KOtE0mDE"
      },
      "execution_count": null,
      "outputs": []
    },
    {
      "cell_type": "markdown",
      "source": [
        "12)\n",
        "\n",
        "Write a class Bug that models a bug moving along a horizontal line. The bug moves either to the right or left. Initially, the bug moves to the right, but it can turn to change its direction. In each move, its position changes by one unit in the current direction. Provide a constructor\n",
        "\n",
        "\n",
        "def init(self, initialPosition)\n",
        "\n",
        "and methods\n",
        "\n",
        "\n",
        "•def turn(self)\n",
        "\n",
        "•def move(self)\n",
        "\n",
        "•def getPosition(self)\n",
        "\n",
        "\n",
        "Sample usage:\n",
        "\n",
        "\n",
        "bugsy = Bug(10)\n",
        "\n",
        "bugsy.move() # Now the position is 11\n",
        "\n",
        "bugsy.turn()\n",
        "\n",
        "bugsy.move() # Now the position is 10\n",
        "\n",
        "Your driver program should construct a bug, make it move and turn a few times, and print the actual and expected positions."
      ],
      "metadata": {
        "id": "-4aei3UAnPoU"
      }
    },
    {
      "cell_type": "code",
      "source": [
        "%%writefile bug.py\n",
        "\n",
        "class Bug:\n",
        "  def __init__(self, initialPosition) :\n",
        "      self._pos = initialPosition\n",
        "      self._dir = 1\n",
        "\n",
        "  def turn(self):\n",
        "    self._dir = self._dir * -1\n",
        "\n",
        "  def move(self):\n",
        "    self._pos = + self._pos + self._dir\n",
        "\n",
        "  def getPosition(self):\n",
        "    return self._pos"
      ],
      "metadata": {
        "id": "AczAj07mnS4L",
        "colab": {
          "base_uri": "https://localhost:8080/"
        },
        "outputId": "5510a480-b7f3-49a8-a271-21b596d0568a"
      },
      "execution_count": 1,
      "outputs": [
        {
          "output_type": "stream",
          "name": "stdout",
          "text": [
            "Overwriting bug.py\n"
          ]
        }
      ]
    },
    {
      "cell_type": "markdown",
      "source": [
        "Move your bug around and display its position"
      ],
      "metadata": {
        "id": "2hv3QfWxnWet"
      }
    },
    {
      "cell_type": "code",
      "source": [
        "from bug import Bug\n",
        "\n",
        "bugsy = Bug(10)\n",
        "#move to 12\n",
        "bugsy.move()\n",
        "bugsy.move()\n",
        "print(\"Expected 12 \\nActual: %d\" % bugsy.getPosition())\n",
        "bugsy.turn()\n",
        "bugsy.move()\n",
        "print(\"Expected 11 \\nActual: %d\" % bugsy.getPosition())"
      ],
      "metadata": {
        "id": "igTZJkwLnZzh",
        "colab": {
          "base_uri": "https://localhost:8080/"
        },
        "outputId": "41794877-4e42-46bf-f33a-c7272874e6c5"
      },
      "execution_count": 2,
      "outputs": [
        {
          "output_type": "stream",
          "name": "stdout",
          "text": [
            "Expected 12 \n",
            "Actual: 12\n",
            "Expected 11 \n",
            "Actual: 11\n"
          ]
        }
      ]
    }
  ],
  "metadata": {
    "kernelspec": {
      "display_name": "Python 3 (ipykernel)",
      "language": "python",
      "name": "python3"
    },
    "language_info": {
      "codemirror_mode": {
        "name": "ipython",
        "version": 3
      },
      "file_extension": ".py",
      "mimetype": "text/x-python",
      "name": "python",
      "nbconvert_exporter": "python",
      "pygments_lexer": "ipython3",
      "version": "3.9.7"
    },
    "colab": {
      "provenance": []
    }
  },
  "nbformat": 4,
  "nbformat_minor": 0
}