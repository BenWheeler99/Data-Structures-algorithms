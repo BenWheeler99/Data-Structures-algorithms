{
  "cells": [
    {
      "cell_type": "markdown",
      "metadata": {
        "id": "vXJ__dbwi9BX"
      },
      "source": [
        "# **Inheritance - In Class Work**"
      ]
    },
    {
      "cell_type": "markdown",
      "source": [
        "4)\n",
        "Add a class AnyCorrectChoiceQuestion to the question hierarchy below that allows multiple correct choices. The respondent should provide any one of the correct choices but only one choice. The answer string should contain all of the correct choices, separated by spaces. Provide instructions in the question text."
      ],
      "metadata": {
        "id": "GdX8SpAyb-I5"
      }
    },
    {
      "cell_type": "code",
      "source": [
        "%%writefile questions.py\n",
        "#When you complete your class, uncomment out the # at the beginning of this line to write it to a .py file\n",
        "##\n",
        "#  This module defines a hierarchy of classes that model exam questions.\n",
        "#\n",
        "\n",
        "## A question with a text and an answer.\n",
        "#\n",
        "class Question :\n",
        "   ## Constructs a question with empty question and answer strings.\n",
        "   #\n",
        "   def __init__(self) :\n",
        "      self._text = \"\"\n",
        "      self._answer = \"\"\n",
        "\n",
        "   ##  Sets the question text.\n",
        "   # #  @param questionText the text of this question\n",
        "   #\n",
        "   def setText(self, questionText) :\n",
        "      self._text = questionText\n",
        "\n",
        "   ## Sets the answer for this question.\n",
        "   ##  @param correctResponse the answer\n",
        "   #\n",
        "   def setAnswer(self, correctResponse) :\n",
        "      self._answer = correctResponse\n",
        "\n",
        "   ## Checks a given response for correctness.\n",
        "   # # @param response the response to check\n",
        "   ##  @return True if the response was correct, False otherwise\n",
        "   #\n",
        "   def checkAnswer(self, response) :\n",
        "      return response == self._answer\n",
        "\n",
        "   def _getAnswer(self) :\n",
        "      return self._answer\n",
        "\n",
        "   ## Displays this question.\n",
        "   #\n",
        "   def display(self) :\n",
        "      print(self._text)\n",
        "\n",
        "\n",
        "\n",
        "\n",
        "## A question with multiple correct answers.\n",
        "#\n",
        "class AnyCorrectChoiceQuestion(Question) :\n",
        "   ## Checks a given response for correctness.\n",
        "   ##  @param response the response to check\n",
        "   ##  @return True if the response was correct, False otherwise\n",
        "   # .split() This function Splits the string based on the delimiter space\n",
        "  def checkAnswer(self,response):\n",
        "    answer_list = self._getAnswer().split()\n",
        "    for ans in answer_list:\n",
        "      if response == ans:\n",
        "        return True\n",
        "    return False\n",
        "\n",
        "\n"
      ],
      "metadata": {
        "id": "W8BKvkaX3Ei-",
        "colab": {
          "base_uri": "https://localhost:8080/"
        },
        "outputId": "a493bebc-72fb-4160-ac29-f514e7f41ff8"
      },
      "execution_count": 1,
      "outputs": [
        {
          "output_type": "stream",
          "name": "stdout",
          "text": [
            "Overwriting questions.py\n"
          ]
        }
      ]
    },
    {
      "cell_type": "markdown",
      "source": [
        "Simple quiz with one question"
      ],
      "metadata": {
        "id": "1LoosV2b3e3q"
      }
    },
    {
      "cell_type": "code",
      "source": [
        "##\n",
        "#  This program shows a simple quiz with one question.\n",
        "#\n",
        "\n",
        "from questions import AnyCorrectChoiceQuestion\n",
        "\n",
        "# Create the question and expected answer.\n",
        "q = AnyCorrectChoiceQuestion()\n",
        "q.setText(\"Of apple, tomato, carrot, cucumber and celery, which is a fruit?\")\n",
        "q.setAnswer(\"apple tomato\")\n",
        "\n",
        "# Display the question and obtain user's response.\n",
        "q.display()\n",
        "response = input(\"Enter only one answer: \")\n",
        "print(q.checkAnswer(response))\n"
      ],
      "metadata": {
        "id": "20_ZAlmi3fVq",
        "colab": {
          "base_uri": "https://localhost:8080/"
        },
        "outputId": "afb449a8-bb88-43e5-8479-b547208b4c9f"
      },
      "execution_count": 2,
      "outputs": [
        {
          "output_type": "stream",
          "name": "stdout",
          "text": [
            "Of apple, tomato, carrot, cucumber and celery, which is a fruit?\n",
            "Enter only one answer: tomato\n",
            "True\n"
          ]
        }
      ]
    },
    {
      "cell_type": "markdown",
      "source": [
        "5)\n",
        "Add a class MultiChoiceQuestion to the question hierarchy below that allows multiple correct choices. The respondent should provide all correct choices, separated by spaces. Provide instructions in the question text.\n",
        "\n",
        "Also, change final solution so that it does not care about case"
      ],
      "metadata": {
        "id": "AV66NNIZ9Q2h"
      }
    },
    {
      "cell_type": "code",
      "source": [
        "%%writefile mquestions.py\n",
        "##\n",
        "#  This module defines a hierarchy of classes that model exam questions.\n",
        "#\n",
        "\n",
        "## A question with a text and an answer.\n",
        "#\n",
        "class Question :\n",
        "   ## Constructs a question with empty question and answer strings.\n",
        "   #\n",
        "   def __init__(self) :\n",
        "      self._text = \"\"\n",
        "      self._answer = \"\"\n",
        "\n",
        "   ##  Sets the question text.\n",
        "   # #  @param questionText the text of this question\n",
        "   #\n",
        "   def setText(self, questionText) :\n",
        "      self._text = questionText\n",
        "\n",
        "   ## Sets the answer for this question.\n",
        "   # # @param correctResponse the answer\n",
        "   #\n",
        "   def setAnswer(self, correctResponse) :\n",
        "      self._answer = correctResponse.upper()\n",
        "\n",
        "   ## Checks a given response for correctness.\n",
        "   # # @param response the response to check\n",
        "   # # @return True if the response was correct, False otherwise\n",
        "   #\n",
        "   def checkAnswer(self, response) :\n",
        "      return response == self._answer\n",
        "\n",
        "   def _getAnswer(self) :\n",
        "      return self._answer\n",
        "\n",
        "   ## Displays this question.\n",
        "   #\n",
        "   def display(self) :\n",
        "      print(self._text)\n",
        "\n",
        "\n",
        "## A question with multiple correct answers, all of which must be provided\n",
        "#  by the user.\n",
        "#\n",
        "class MultiChoiceQuestion(Question) :\n",
        "   ## Checks a given response for correctness.\n",
        "   # # @param response the response to check\n",
        "   # # @return True if the response was correct, False otherwise\n",
        "   #\n",
        "    def checkAnswer(self,response):\n",
        "      answer_list = self._getAnswer().split()\n",
        "      rs_list = response.upper()\n",
        "      response_list = rs_list.split()\n",
        "      return sorted(answer_list) == sorted(response_list)\n",
        "\n",
        "\n",
        "## A question with multiple choices.\n",
        "#\n"
      ],
      "metadata": {
        "id": "vQgh05-F9iqf",
        "colab": {
          "base_uri": "https://localhost:8080/"
        },
        "outputId": "5baecafd-0330-438e-ead0-a2657d0d256e"
      },
      "execution_count": 1,
      "outputs": [
        {
          "output_type": "stream",
          "name": "stdout",
          "text": [
            "Overwriting mquestions.py\n"
          ]
        }
      ]
    },
    {
      "cell_type": "markdown",
      "source": [
        "Write a test program below"
      ],
      "metadata": {
        "id": "hCCp_b0w-8fN"
      }
    },
    {
      "cell_type": "code",
      "source": [
        "##\n",
        "#  This program shows a simple quiz with one question.\n",
        "#\n",
        "\n",
        "from mquestions import MultiChoiceQuestion\n",
        "\n",
        "\n",
        "\n",
        "# Create the question and expected answer.\n",
        "q = MultiChoiceQuestion()\n",
        "q.setText(\"Of apple, tomato, carrot, cucumber and celery, which is a fruit?\")\n",
        "q.setAnswer(\"apple tomato\")\n",
        "\n",
        "# Display the question and obtain user's response.\n",
        "q.display()\n",
        "response = input(\"Enter all correct answers: \")\n",
        "print(q.checkAnswer(response))\n",
        "# Create the question and expected answer.\n",
        "#Cut and paste tester from above but specify they must include all choices separated by a space\n"
      ],
      "metadata": {
        "id": "rbyWyDOP--rA",
        "colab": {
          "base_uri": "https://localhost:8080/"
        },
        "outputId": "6238c182-1242-4d3c-89bf-31f2ec6cace2"
      },
      "execution_count": 2,
      "outputs": [
        {
          "output_type": "stream",
          "name": "stdout",
          "text": [
            "Of apple, tomato, carrot, cucumber and celery, which is a fruit?\n",
            "Enter all correct answers: AppLe ToMato\n",
            "True\n"
          ]
        }
      ]
    },
    {
      "cell_type": "markdown",
      "source": [
        "6) Add a method addText to the Question superclass and provide a different implementation of ChoiceQuestion that calls addText rather than storing a list of choices."
      ],
      "metadata": {
        "id": "2Fxd9WfLHgYl"
      }
    },
    {
      "cell_type": "code",
      "source": [
        "%%writefile mquestions2.py\n",
        "##\n",
        "#  This module defines a hierarchy of classes that model exam questions.\n",
        "#\n",
        "\n",
        "## A question with a text and an answer.\n",
        "#\n",
        "class Question :\n",
        "   ## Constructs a question with empty question and answer strings.\n",
        "   #\n",
        "   def __init__(self) :\n",
        "      self._text = \"\"\n",
        "      self._answer = \"\"\n",
        "\n",
        "   ##  Sets the question text.\n",
        "   ##   @param questionText the text of this question\n",
        "   #\n",
        "   def setText(self, questionText) :\n",
        "      self._text = questionText\n",
        "\n",
        "   ## Adds text to the end of the question text.\n",
        "   ##  @param text the text to add to the end of the question\n",
        "   #\n",
        "   def addText(self, text):\n",
        "      self._text += text\n",
        "\n",
        "\n",
        "   ## Sets the answer for this question.\n",
        "   ##  @param correctResponse the answer\n",
        "   #\n",
        "   def setAnswer(self, correctResponse) :\n",
        "      self._answer = correctResponse\n",
        "\n",
        "   ## Checks a given response for correctness.\n",
        "   ##  @param response the response to check\n",
        "   # # @return True if the response was correct, False otherwise\n",
        "   #\n",
        "   def checkAnswer(self, response) :\n",
        "      return response == self._answer\n",
        "\n",
        "   ## Displays this question.\n",
        "   #\n",
        "   def display(self) :\n",
        "      print(self._text)\n",
        "\n",
        "## A question with multiple choices.\n",
        "#\n",
        "class ChoiceQuestion(Question) :\n",
        "   def __init__(self) :\n",
        "    super().__init__()\n",
        "    self._num_choices = 0\n",
        "\n",
        "   # Constructs a choice question with no choices.\n",
        "   def addChoice(self, choice, correct):\n",
        "    self._num_choices += 1\n",
        "    self.addText(\"\\n\" + str(self._num_choices) + \": \" + choice)\n",
        "    if correct :\n",
        "      choiceString = str(self._num_choices)\n",
        "      self.setAnswer(choiceString)\n",
        "\n"
      ],
      "metadata": {
        "id": "90OkSmpvJyCL",
        "colab": {
          "base_uri": "https://localhost:8080/"
        },
        "outputId": "cfebdca6-516c-49e7-e177-c32196f49c22"
      },
      "execution_count": 3,
      "outputs": [
        {
          "output_type": "stream",
          "name": "stdout",
          "text": [
            "Overwriting mquestions2.py\n"
          ]
        }
      ]
    },
    {
      "cell_type": "markdown",
      "source": [
        "Write a program to test this"
      ],
      "metadata": {
        "id": "2q4Ib7UgJ_U7"
      }
    },
    {
      "cell_type": "code",
      "source": [
        "from mquestions2 import ChoiceQuestion\n",
        "\n",
        "q = ChoiceQuestion()\n",
        "q.setText(\"Who invented python?\")\n",
        "q.addChoice(\"Joe\", False)\n",
        "q.addChoice(\"Joe\", False)\n",
        "q.addChoice(\"Joe\", False)\n",
        "q.addChoice(\"Guido\", True)\n",
        "\n",
        "q.display()\n",
        "response = input(\"Your answer?\")\n",
        "print(q.checkAnswer(response))"
      ],
      "metadata": {
        "id": "9uJ5vK1FKB3Y",
        "colab": {
          "base_uri": "https://localhost:8080/"
        },
        "outputId": "4d8bfc9b-295d-4ec7-e43b-02f3744dcc3e"
      },
      "execution_count": 6,
      "outputs": [
        {
          "output_type": "stream",
          "name": "stdout",
          "text": [
            "Who invented python?\n",
            "1: Joe\n",
            "2: Joe\n",
            "3: Joe\n",
            "4: Guido\n",
            "Your answer?4\n",
            "True\n"
          ]
        }
      ]
    },
    {
      "cell_type": "markdown",
      "source": [
        "8)\n",
        "Implement a superclass Person. Make two classes, Student and Instructor, that inherit from Person. A person has a name and a year of birth. A student has a major, and an instructor has a salary. Write the class declarations, the constructors, and the __repr__ method for all classes. Supply a test program that tests these classes and methods."
      ],
      "metadata": {
        "id": "WpgjvdtzNl4i"
      }
    },
    {
      "cell_type": "code",
      "source": [
        "%%writefile person.py\n",
        "##\n",
        "#  Classes for storing various types of people.\n",
        "#\n",
        "\n",
        "## Represent a general person without additional specific properties.\n",
        "#\n",
        "class Person :\n",
        "   ## Construct a new person with a name and year of birth.\n",
        "   ##  @param name the name of the person\n",
        "   ##  @param year the year in which the person was born\n",
        "   #\n",
        "   def\n",
        "\n",
        "   ## Construct a string representation of the person.\n",
        "   ##  @return a string containing the details of the person\n",
        "   #\n",
        "   def\n",
        "\n",
        "\n",
        "## Represent a student with a major.\n",
        "#\n",
        "class\n",
        "   ## Construct a new student with a name, year of birth and major.\n",
        "   ##  @param name the name of the person\n",
        "   # # @param year the year in which the person was born\n",
        "   # # @param major the student's major\n",
        "   #\n",
        "   def\n",
        "\n",
        "\n",
        "   ## Construct a string representation of the person.\n",
        "   # # @return a string containing the details of the person\n",
        "   #\n",
        "   def\n",
        "\n",
        "\n",
        "## Represent an instructor with a salary.\n",
        "#\n",
        "class\n",
        "   ## Construct a new instructor with a name, year of birth and salary.\n",
        "   #  #@param name the name of the person\n",
        "   ##  @param year the year in which the person was born\n",
        "   ##  @param salary the instructor's salary\n",
        "   #\n",
        "   def\n",
        "\n",
        "   ## Construct a string representation of the person.\n",
        "   ## @return a string containing the details of the person\n",
        "   #\n",
        "   def\n",
        "\n",
        "\n"
      ],
      "metadata": {
        "id": "glqeB2rVN0M2"
      },
      "execution_count": null,
      "outputs": []
    },
    {
      "cell_type": "markdown",
      "source": [
        "Write the tester below"
      ],
      "metadata": {
        "id": "fZW2ByhpWXds"
      }
    },
    {
      "cell_type": "code",
      "source": [
        "\n",
        "#IUse the repr or print method to view object properties.\n",
        "\n",
        "from person import Student, Instructor\n"
      ],
      "metadata": {
        "id": "x3l16tyTWZtz"
      },
      "execution_count": null,
      "outputs": []
    },
    {
      "cell_type": "markdown",
      "source": [
        "9)\n",
        "Make a class Employee with a name and salary. Make a class Manager inherit from Employee. Add an instance variable, named _department, that stores a string. Supply a method ___repr__ __  that prints the manager’s name, department, and salary. Make a class Executive inherit from Manager. Supply appropriate __repr__ methods for all classes. Supply a test program that tests these classes and methods."
      ],
      "metadata": {
        "id": "sIHblVGxdV5U"
      }
    },
    {
      "cell_type": "code",
      "source": [
        "%%writefile people.py\n",
        "##\n",
        "#  Classes for storing various types of people.\n",
        "#\n",
        "\n",
        "## Represent an employee with a name and salary.\n",
        "#\n",
        "class\n",
        "   ## Construct a new employee with a name and salary.\n",
        "   # # @param name the name of the person\n",
        "   # # @param year the year in which the person was born\n",
        "   #\n",
        "   def\n",
        "\n",
        "   ## Construct a string representation of the employee.\n",
        "   # # @return a string containing the details of the employee\n",
        "   #\n",
        "   def\n",
        "\n",
        "## Represent a manager with a department.\n",
        "#\n",
        "class  :\n",
        "   ## Construct a new manager with a name, salary and department.\n",
        "   # # @param name the name of the manager\n",
        "   # # @param salary the salary of the manager\n",
        "   # # @param department the manager's department\n",
        "   #\n",
        "   def\n",
        "\n",
        "   ## Construct a string representation of the manager.\n",
        "   # # @return a string containing the details of the manager\n",
        "   #\n",
        "   def\n",
        "\n",
        "## Represent an executive.\n",
        "#\n",
        "class  :\n",
        "   ## Construct a string representation of the executive.\n",
        "   ##  @return a string containing the details of the executive\n",
        "   #\n",
        "   def\n",
        "\n"
      ],
      "metadata": {
        "id": "Zfim610ndfM0"
      },
      "execution_count": null,
      "outputs": []
    },
    {
      "cell_type": "markdown",
      "source": [
        "Tester program below"
      ],
      "metadata": {
        "id": "USPUf7Qbdk4O"
      }
    },
    {
      "cell_type": "code",
      "source": [
        "##\n",
        "#  Demonstrate different types of people.\n",
        "#\n",
        "from people import Employee, Manager, Executive\n",
        "\n",
        "# Create an employee, manager and executive.\n",
        "\n",
        "\n",
        "# Display the people.\n",
        "\n"
      ],
      "metadata": {
        "id": "DTFtkyBodmfa"
      },
      "execution_count": null,
      "outputs": []
    }
  ],
  "metadata": {
    "kernelspec": {
      "display_name": "Python 3 (ipykernel)",
      "language": "python",
      "name": "python3"
    },
    "language_info": {
      "codemirror_mode": {
        "name": "ipython",
        "version": 3
      },
      "file_extension": ".py",
      "mimetype": "text/x-python",
      "name": "python",
      "nbconvert_exporter": "python",
      "pygments_lexer": "ipython3",
      "version": "3.9.7"
    },
    "colab": {
      "provenance": []
    }
  },
  "nbformat": 4,
  "nbformat_minor": 0
}