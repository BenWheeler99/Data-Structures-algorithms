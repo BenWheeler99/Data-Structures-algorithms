{
  "cells": [
    {
      "cell_type": "markdown",
      "metadata": {
        "id": "ApfN3OBBCsts"
      },
      "source": [
        "# **COLLECTION OF VARIABLES**"
      ]
    },
    {
      "cell_type": "markdown",
      "metadata": {
        "id": "RLh4hadrCstv"
      },
      "source": [
        "### 1. Create a list of repeated element (element 2, 48 times)"
      ]
    },
    {
      "cell_type": "code",
      "execution_count": 26,
      "metadata": {
        "colab": {
          "base_uri": "https://localhost:8080/"
        },
        "id": "1_tQFSPqCstv",
        "outputId": "fde0c05d-2c80-4d58-9cb2-54113a349efd"
      },
      "outputs": [
        {
          "output_type": "stream",
          "name": "stdout",
          "text": [
            "[2, 2, 2, 2, 2, 2, 2, 2, 2, 2, 2, 2, 2, 2, 2, 2, 2, 2, 2, 2, 2, 2, 2, 2, 2, 2, 2, 2, 2, 2, 2, 2, 2, 2, 2, 2, 2, 2, 2, 2, 2, 2, 2, 2, 2, 2, 2, 2]\n"
          ]
        }
      ],
      "source": [
        "list = [2] * 48\n",
        "print(list)"
      ]
    },
    {
      "cell_type": "markdown",
      "metadata": {
        "id": "3mtLvmtvCstw"
      },
      "source": [
        "### 2. Print the second element of the list\n",
        "\n",
        "list = [\"apple\",\"orange\",\"grapes\",\"watermelon\"]"
      ]
    },
    {
      "cell_type": "code",
      "execution_count": 2,
      "metadata": {
        "colab": {
          "base_uri": "https://localhost:8080/",
          "height": 35
        },
        "id": "TTKeboRCCstw",
        "outputId": "6507ee5a-f200-460d-8ece-a708ed6e839c"
      },
      "outputs": [
        {
          "output_type": "execute_result",
          "data": {
            "text/plain": [
              "'orange'"
            ],
            "application/vnd.google.colaboratory.intrinsic+json": {
              "type": "string"
            }
          },
          "metadata": {},
          "execution_count": 2
        }
      ],
      "source": [
        "list = [\"apple\",\"orange\",\"grapes\",\"watermelon\"]\n",
        "\n",
        "list[1]"
      ]
    },
    {
      "cell_type": "markdown",
      "metadata": {
        "id": "_yBKHLtxCstx"
      },
      "source": [
        "### 3.  Replace the second element of the list with \"strawberries\"\n",
        "list = [\"apple\",\"orange\",\"grapes\",\"watermelon\"]"
      ]
    },
    {
      "cell_type": "code",
      "execution_count": 23,
      "metadata": {
        "colab": {
          "base_uri": "https://localhost:8080/"
        },
        "id": "zksIedqQCstx",
        "outputId": "77defbd5-4784-4263-fec8-1f48b38d6998"
      },
      "outputs": [
        {
          "output_type": "stream",
          "name": "stdout",
          "text": [
            "['apple', 'strawberries', 'grapes', 'watermelon']\n"
          ]
        }
      ],
      "source": [
        "list = [\"apple\",\"orange\",\"grapes\",\"watermelon\"]\n",
        "list.pop(1)\n",
        "list.insert(1, \"strawberries\")\n",
        "print(list)"
      ]
    },
    {
      "cell_type": "markdown",
      "metadata": {
        "id": "qHwugmByCstx"
      },
      "source": [
        "### 4. Iterate through the list and print the values"
      ]
    },
    {
      "cell_type": "code",
      "execution_count": 24,
      "metadata": {
        "colab": {
          "base_uri": "https://localhost:8080/"
        },
        "id": "KuTDGRhhCsty",
        "outputId": "f178ca08-3927-4b79-ce14-d95d43fd4274"
      },
      "outputs": [
        {
          "output_type": "stream",
          "name": "stdout",
          "text": [
            "apple\n",
            "strawberries\n",
            "grapes\n",
            "watermelon\n"
          ]
        }
      ],
      "source": [
        "for item in list :\n",
        "  print(item)"
      ]
    },
    {
      "cell_type": "markdown",
      "metadata": {
        "id": "FFlH9B0kCsty"
      },
      "source": [
        "### 5. Write a Python code to print squares of all numbers present in a list = [1, 12, 24, 36, 11, 20,50]"
      ]
    },
    {
      "cell_type": "code",
      "execution_count": 13,
      "metadata": {
        "colab": {
          "base_uri": "https://localhost:8080/"
        },
        "id": "4ba6ippyCsty",
        "outputId": "6aa54781-9a02-41de-ad19-b1629a12006f"
      },
      "outputs": [
        {
          "output_type": "stream",
          "name": "stdout",
          "text": [
            "1\n",
            "144\n",
            "576\n",
            "1296\n",
            "121\n",
            "400\n",
            "2500\n"
          ]
        }
      ],
      "source": [
        "list = [1, 12, 24, 36, 11, 20,50]\n",
        "for num in list:\n",
        "  num = num * num\n",
        "  print(num)"
      ]
    },
    {
      "cell_type": "markdown",
      "metadata": {
        "id": "ZTtPd4TTCsty"
      },
      "source": [
        "### 6. Pop yellow color from the list below:\n",
        "List=['white','red', 'blue', 'green','blue','yellow', 'black']"
      ]
    },
    {
      "cell_type": "code",
      "execution_count": 15,
      "metadata": {
        "colab": {
          "base_uri": "https://localhost:8080/"
        },
        "id": "Iu9gt6ztCstz",
        "outputId": "025f2585-5b82-4f3d-83fb-5d100e378c9e"
      },
      "outputs": [
        {
          "output_type": "stream",
          "name": "stdout",
          "text": [
            "['white', 'red', 'blue', 'green', 'blue', 'black']\n"
          ]
        }
      ],
      "source": [
        "List=['white','red', 'blue', 'green','blue','yellow', 'black']\n",
        "List.pop(5)\n",
        "print(List)"
      ]
    },
    {
      "cell_type": "markdown",
      "metadata": {
        "id": "eYF4JIHuCstz"
      },
      "source": [
        "### 7. Check length of list\n",
        "\n",
        "list=[\"a\",\"b\",\"c\",\"d\",\"e\"]"
      ]
    },
    {
      "cell_type": "code",
      "execution_count": 4,
      "metadata": {
        "colab": {
          "base_uri": "https://localhost:8080/"
        },
        "id": "nT1vQwX4Cstz",
        "outputId": "53909880-f4c4-4349-d333-c90a8177536c"
      },
      "outputs": [
        {
          "output_type": "execute_result",
          "data": {
            "text/plain": [
              "5"
            ]
          },
          "metadata": {},
          "execution_count": 4
        }
      ],
      "source": [
        "list=[\"a\",\"b\",\"c\",\"d\",\"e\"]\n",
        "len(list)"
      ]
    },
    {
      "cell_type": "markdown",
      "metadata": {
        "id": "r0wdHl7dCstz"
      },
      "source": [
        "###  8. Create a dictionary with the following information:\n",
        "\n",
        "brand = Audi\n",
        "\n",
        "Model = Q2\n",
        "\n",
        "Year = 1980"
      ]
    },
    {
      "cell_type": "code",
      "execution_count": 19,
      "metadata": {
        "colab": {
          "base_uri": "https://localhost:8080/"
        },
        "id": "d_ch8LeNCstz",
        "outputId": "85ecc2eb-e19c-4b14-bb9a-f53f4f053ef2"
      },
      "outputs": [
        {
          "output_type": "stream",
          "name": "stdout",
          "text": [
            "{'brand': 'Audi', 'Model': 'Q2', 'Year': '1980'}\n"
          ]
        }
      ],
      "source": [
        "myDictionary = {\"brand\": \"Audi\",\n",
        "                \"Model\": \"Q2\",\n",
        "                \"Year\": '1980'}\n",
        "print(myDictionary)"
      ]
    },
    {
      "cell_type": "markdown",
      "metadata": {
        "id": "bH8HYcp0Cstz"
      },
      "source": [
        "### 9. In the above dictionary change the year to 2019"
      ]
    },
    {
      "cell_type": "code",
      "execution_count": 21,
      "metadata": {
        "colab": {
          "base_uri": "https://localhost:8080/"
        },
        "id": "YaSPePv9Cstz",
        "outputId": "497d91d4-1aeb-48ef-c1a0-203d9c76bade"
      },
      "outputs": [
        {
          "output_type": "stream",
          "name": "stdout",
          "text": [
            "{'brand': 'Audi', 'Model': 'Q2', 'Year': '2019'}\n"
          ]
        }
      ],
      "source": [
        "myDictionary[\"Year\"] = '2019'\n",
        "\n",
        "print(myDictionary)"
      ]
    },
    {
      "cell_type": "markdown",
      "metadata": {
        "id": "1qj1ZL4TCstz"
      },
      "source": [
        "### 10. Create a set of following elements\n",
        "\n",
        "1.0, \"Hello\", 55 , (6,7,8)"
      ]
    },
    {
      "cell_type": "code",
      "execution_count": 22,
      "metadata": {
        "colab": {
          "base_uri": "https://localhost:8080/"
        },
        "id": "6cxsoVU_Cstz",
        "outputId": "12d76e4f-c13e-44f3-a090-9e14ebabb743"
      },
      "outputs": [
        {
          "output_type": "stream",
          "name": "stdout",
          "text": [
            "{'Hello', 55, (6, 7, 8)}\n"
          ]
        }
      ],
      "source": [
        "set = {\"Hello\", 55 , (6,7,8)}\n",
        "print(set)"
      ]
    }
  ],
  "metadata": {
    "kernelspec": {
      "display_name": "Python 3 (ipykernel)",
      "language": "python",
      "name": "python3"
    },
    "language_info": {
      "codemirror_mode": {
        "name": "ipython",
        "version": 3
      },
      "file_extension": ".py",
      "mimetype": "text/x-python",
      "name": "python",
      "nbconvert_exporter": "python",
      "pygments_lexer": "ipython3",
      "version": "3.9.7"
    },
    "colab": {
      "provenance": []
    }
  },
  "nbformat": 4,
  "nbformat_minor": 0
}