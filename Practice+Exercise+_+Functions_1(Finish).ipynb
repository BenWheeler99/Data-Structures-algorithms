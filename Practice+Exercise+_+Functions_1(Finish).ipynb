{
  "cells": [
    {
      "cell_type": "markdown",
      "metadata": {
        "id": "tQI3II0qb95Z"
      },
      "source": [
        "# **USER DEFINED FUNCTION AND LAMBDA FUNCTIONS EXERCISE**"
      ]
    },
    {
      "cell_type": "markdown",
      "metadata": {
        "id": "nxLZ2UVCb95b"
      },
      "source": [
        "### 1. Write a function to add, subtract, multiply and divide two variables passed to it and print the result"
      ]
    },
    {
      "cell_type": "code",
      "execution_count": 3,
      "metadata": {
        "colab": {
          "base_uri": "https://localhost:8080/"
        },
        "id": "G9cBsfDIb95b",
        "outputId": "8ee2f0cf-e9f3-4614-d73b-2a8e85597cd2"
      },
      "outputs": [
        {
          "output_type": "stream",
          "name": "stdout",
          "text": [
            "25\n",
            "-5\n",
            "0.6666666666666666\n",
            "150\n"
          ]
        }
      ],
      "source": [
        "num_1 = 10\n",
        "num_2 = 15\n",
        "def math():\n",
        "  sum = num_1 + num_2\n",
        "  subtract = num_1 - num_2\n",
        "  divide = num_1 / num_2\n",
        "  multiply = num_1 * num_2\n",
        "  print(sum)\n",
        "  print(subtract)\n",
        "  print(divide)\n",
        "  print(multiply)\n",
        "\n",
        "math()"
      ]
    },
    {
      "cell_type": "markdown",
      "metadata": {
        "id": "9iqHYo6Yb95b"
      },
      "source": [
        "### 2. Write a Python function given range (1,10) both included, that gives the square of every number"
      ]
    },
    {
      "cell_type": "code",
      "execution_count": 61,
      "metadata": {
        "colab": {
          "base_uri": "https://localhost:8080/"
        },
        "id": "olqC3QVmb95c",
        "outputId": "38dbe86a-8461-4422-cbb3-9a807833194b"
      },
      "outputs": [
        {
          "output_type": "execute_result",
          "data": {
            "text/plain": [
              "[1, 4, 9, 16, 25, 36, 49, 64, 81, 100]"
            ]
          },
          "metadata": {},
          "execution_count": 61
        }
      ],
      "source": [
        "def square_of_numbers(start, end):\n",
        "    squares = []\n",
        "    for num in range(start, end):\n",
        "       squares.append(num ** 2)\n",
        "    return squares\n",
        "\n",
        "square_of_numbers(1,11)"
      ]
    },
    {
      "cell_type": "markdown",
      "metadata": {
        "id": "SjHQA7_fb95c"
      },
      "source": [
        "### 3. Write a function to calculate simple interest\n",
        "\n",
        "simple interest = (Principal amount * Annual Rate of interest * Time(in years))/100\n",
        "\n",
        "Take values as follows\n",
        "\n",
        "Principal Amount = 1000\n",
        "\n",
        "Rate of interest = 3%\n",
        "\n",
        "Time = 5 years"
      ]
    },
    {
      "cell_type": "code",
      "execution_count": 11,
      "metadata": {
        "colab": {
          "base_uri": "https://localhost:8080/"
        },
        "id": "JObBLQQFb95c",
        "outputId": "af4b3839-7dec-46de-8e43-381952f426c4"
      },
      "outputs": [
        {
          "output_type": "stream",
          "name": "stdout",
          "text": [
            "1.5\n"
          ]
        }
      ],
      "source": [
        "principal = 1000\n",
        "rate = 0.03\n",
        "time = 5\n",
        "\n",
        "def interest():\n",
        "  interest = (principal * rate * time)/100\n",
        "  print(interest)\n",
        "\n",
        "interest()"
      ]
    },
    {
      "cell_type": "markdown",
      "metadata": {
        "id": "yM3z4nlab95c"
      },
      "source": [
        "### 4. Write a function to check the number is divisible by 25. The function should return True if divisible and \"Not divisible\" if not"
      ]
    },
    {
      "cell_type": "code",
      "execution_count": 15,
      "metadata": {
        "colab": {
          "base_uri": "https://localhost:8080/"
        },
        "id": "wSpg7sqYb95c",
        "outputId": "7cd8ab1d-46ec-4e50-9840-db3c1ba93879"
      },
      "outputs": [
        {
          "output_type": "stream",
          "name": "stdout",
          "text": [
            "True\n"
          ]
        }
      ],
      "source": [
        "def divis(num):\n",
        "  if num % 25 == 0:\n",
        "    print(\"True\")\n",
        "  else:\n",
        "    print(\"Not Divisible\")\n",
        "\n",
        "divis(100)"
      ]
    },
    {
      "cell_type": "markdown",
      "metadata": {
        "id": "SOhpsb4eb95c"
      },
      "source": [
        "### 5. Define a function that takes an input, squares it, adds 5, then returns the answer"
      ]
    },
    {
      "cell_type": "code",
      "execution_count": 16,
      "metadata": {
        "colab": {
          "base_uri": "https://localhost:8080/"
        },
        "id": "8MHqnSxab95c",
        "outputId": "40ef372b-8d4f-4b77-f9e2-66acf53fa8b9"
      },
      "outputs": [
        {
          "name": "stdout",
          "output_type": "stream",
          "text": [
            "Number?2\n"
          ]
        },
        {
          "output_type": "execute_result",
          "data": {
            "text/plain": [
              "9"
            ]
          },
          "metadata": {},
          "execution_count": 16
        }
      ],
      "source": [
        "x = int(input(\"Number?\"))\n",
        "\n",
        "def func(x):\n",
        "  x = x ** 2 + 5\n",
        "  return x\n",
        "\n",
        "func(x)"
      ]
    },
    {
      "cell_type": "markdown",
      "metadata": {
        "id": "s1fIiX8tb95d"
      },
      "source": [
        "### 6. Using lambda function perform the following task : take an input, squares it, add 5, then return the answer"
      ]
    },
    {
      "cell_type": "code",
      "execution_count": 57,
      "metadata": {
        "colab": {
          "base_uri": "https://localhost:8080/"
        },
        "id": "g7qxEisVb95d",
        "outputId": "d571ed14-f967-4f10-e0bf-78a488bc1ab6"
      },
      "outputs": [
        {
          "name": "stdout",
          "output_type": "stream",
          "text": [
            "Number?2\n"
          ]
        },
        {
          "output_type": "execute_result",
          "data": {
            "text/plain": [
              "9"
            ]
          },
          "metadata": {},
          "execution_count": 57
        }
      ],
      "source": [
        "x = int(input(\"Number?\"))\n",
        "func = lambda x : (x**2) + 5\n",
        "\n",
        "func(x)"
      ]
    },
    {
      "cell_type": "markdown",
      "metadata": {
        "id": "aPkzpEImb95d"
      },
      "source": [
        "### 7. Write a function to calculate the power of a number raised to other ($a^b$)"
      ]
    },
    {
      "cell_type": "code",
      "execution_count": 47,
      "metadata": {
        "colab": {
          "base_uri": "https://localhost:8080/"
        },
        "id": "Oa_Ijg3sb95d",
        "outputId": "65b8d91d-61c6-4df0-c676-a30a8a49b19d"
      },
      "outputs": [
        {
          "name": "stdout",
          "output_type": "stream",
          "text": [
            "What is your first num? 2\n",
            "What number do you want it raised to? 3\n"
          ]
        },
        {
          "output_type": "execute_result",
          "data": {
            "text/plain": [
              "8"
            ]
          },
          "metadata": {},
          "execution_count": 47
        }
      ],
      "source": [
        "num = int(input(\"What is your first num? \"))\n",
        "expo = int(input(\"What number do you want it raised to? \"))\n",
        "\n",
        "def raised():\n",
        "  answer = num ** expo\n",
        "  return answer\n",
        "\n",
        "raised()"
      ]
    },
    {
      "cell_type": "markdown",
      "metadata": {
        "id": "_K9c5ymeb95d"
      },
      "source": [
        "### 8. Write a function to calculate the area of a triangle\n",
        "\n",
        "area of triangle = 1/2 * base * height"
      ]
    },
    {
      "cell_type": "code",
      "execution_count": 44,
      "metadata": {
        "colab": {
          "base_uri": "https://localhost:8080/"
        },
        "id": "_ZJeRD5qb95d",
        "outputId": "bba05b6b-32ad-498b-839d-188a4ad3f46a"
      },
      "outputs": [
        {
          "output_type": "execute_result",
          "data": {
            "text/plain": [
              "9.0"
            ]
          },
          "metadata": {},
          "execution_count": 44
        }
      ],
      "source": [
        "base = 3\n",
        "height = 6\n",
        "def area_triangle():\n",
        "  area = (base * height)/2\n",
        "  return area\n",
        "\n",
        "area_triangle()"
      ]
    },
    {
      "cell_type": "markdown",
      "metadata": {
        "id": "MtCIqU_Yb95d"
      },
      "source": [
        "### 9. Create a function that takes country as the input and returns \"I am from *Country* \""
      ]
    },
    {
      "cell_type": "code",
      "execution_count": 42,
      "metadata": {
        "colab": {
          "base_uri": "https://localhost:8080/"
        },
        "id": "hnA-H52Ib95d",
        "outputId": "7b7cdd10-8fff-4e3f-d986-c729e793c016"
      },
      "outputs": [
        {
          "output_type": "stream",
          "name": "stdout",
          "text": [
            "What is your country? America\n",
            "I am from  America\n"
          ]
        }
      ],
      "source": [
        "country_1 = input(\"What is your country? \")\n",
        "\n",
        "def country(country):\n",
        "  print(\"I am from \", country)\n",
        "\n",
        "\n",
        "country(country_1)\n"
      ]
    },
    {
      "cell_type": "markdown",
      "metadata": {
        "id": "sPK0Vh1_b95d"
      },
      "source": [
        "### 10. Write a function to convert degree Celsius temperature to Fahrenheit"
      ]
    },
    {
      "cell_type": "code",
      "execution_count": 19,
      "metadata": {
        "colab": {
          "base_uri": "https://localhost:8080/"
        },
        "id": "bdsNLaaHb95d",
        "outputId": "fda7a0f6-ce68-442e-cdaf-5624253373b2"
      },
      "outputs": [
        {
          "output_type": "stream",
          "name": "stdout",
          "text": [
            "95.0\n"
          ]
        }
      ],
      "source": [
        "def convert(C):\n",
        "  f = (9/5 * C) + 32\n",
        "  print(f)\n",
        "\n",
        "convert(C=35)"
      ]
    }
  ],
  "metadata": {
    "kernelspec": {
      "display_name": "Python 3 (ipykernel)",
      "language": "python",
      "name": "python3"
    },
    "language_info": {
      "codemirror_mode": {
        "name": "ipython",
        "version": 3
      },
      "file_extension": ".py",
      "mimetype": "text/x-python",
      "name": "python",
      "nbconvert_exporter": "python",
      "pygments_lexer": "ipython3",
      "version": "3.9.7"
    },
    "colab": {
      "provenance": []
    }
  },
  "nbformat": 4,
  "nbformat_minor": 0
}