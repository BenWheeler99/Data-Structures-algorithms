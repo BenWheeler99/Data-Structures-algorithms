{
  "cells": [
    {
      "cell_type": "markdown",
      "metadata": {
        "id": "dJhP2JVirzB2"
      },
      "source": [
        "# **CONDITIONAL STATEMENTS EXERCISE**"
      ]
    },
    {
      "cell_type": "markdown",
      "metadata": {
        "id": "7Y8OJSMTrzB5"
      },
      "source": [
        "### 1. Check if a is equal to 10, If yes, print \"Hello\", else print \"Good Bye\"\n",
        "a = 56"
      ]
    },
    {
      "cell_type": "code",
      "execution_count": 1,
      "metadata": {
        "colab": {
          "base_uri": "https://localhost:8080/"
        },
        "id": "CgijPTXwrzB6",
        "outputId": "8be7220a-4b6e-4088-a5cf-6762d15abe74"
      },
      "outputs": [
        {
          "output_type": "stream",
          "name": "stdout",
          "text": [
            "Good Bye\n"
          ]
        }
      ],
      "source": [
        "a = 56\n",
        "if a == 10:\n",
        "  print(\"Hello\")\n",
        "elif a != 10:\n",
        "  print(\"Good Bye\")"
      ]
    },
    {
      "cell_type": "markdown",
      "metadata": {
        "id": "e8Ft_cKbrzB7"
      },
      "source": [
        "### 2. Check whether a number is even or odd\n",
        "a = 2020"
      ]
    },
    {
      "cell_type": "code",
      "execution_count": 3,
      "metadata": {
        "colab": {
          "base_uri": "https://localhost:8080/"
        },
        "id": "QybhcEGIrzB7",
        "outputId": "1d2d841f-d33a-4b5a-8773-4c02c0d9c2a8"
      },
      "outputs": [
        {
          "output_type": "stream",
          "name": "stdout",
          "text": [
            "even\n"
          ]
        }
      ],
      "source": [
        "a = 2020\n",
        "\n",
        "if a % 2 == 0:\n",
        "  print(\"even\")\n",
        "elif a % 2 != 0:\n",
        "  print(\"odd\")"
      ]
    },
    {
      "cell_type": "markdown",
      "metadata": {
        "id": "Q5Smh0IhrzB7"
      },
      "source": [
        "### 3.  Check whether the area of the rectangle is greater than the perimeter of the rectangle\n",
        "length = 5\n",
        "breadth = 10\n",
        "\n",
        "Hint: Area of rectangle = length * breadth\n",
        "\n",
        "Hint: Perimeter of rectangle = 2 * (length + breadth)"
      ]
    },
    {
      "cell_type": "code",
      "execution_count": 4,
      "metadata": {
        "colab": {
          "base_uri": "https://localhost:8080/"
        },
        "id": "GOxUp14frzB8",
        "outputId": "d7798100-5063-47db-caf0-e563a1349726"
      },
      "outputs": [
        {
          "output_type": "stream",
          "name": "stdout",
          "text": [
            "Greater\n"
          ]
        }
      ],
      "source": [
        "length = 5\n",
        "breadth = 10\n",
        "area = length * breadth\n",
        "perimeter= 2 * (length + breadth)\n",
        "if area > perimeter:\n",
        "  print(\"Greater\")\n",
        "elif area < perimeter:\n",
        "  print(\"Less than\")"
      ]
    },
    {
      "cell_type": "markdown",
      "metadata": {
        "id": "YcUoRCSBrzB8"
      },
      "source": [
        "### 4. Calculate the average marks of a student in 5 subjects and give grades accordingly:\n",
        "If average>90 then Grade = A\n",
        "\n",
        "If average>80 then Grade = B\n",
        "\n",
        "If average>70 then Grade = C\n",
        "\n",
        "If average>60 then Grade = D\n",
        "\n",
        "If average>50 then Grade = E\n",
        "\n",
        "else Fail\n",
        "\n",
        "Marks in subject 1= 72\n",
        "\n",
        "Marks in subject 2= 85\n",
        "\n",
        "Marks in subject 3= 96\n",
        "\n",
        "Marks in subject 4= 42\n",
        "\n",
        "Marks in subject 5= 95"
      ]
    },
    {
      "cell_type": "code",
      "execution_count": 16,
      "metadata": {
        "colab": {
          "base_uri": "https://localhost:8080/"
        },
        "id": "daMJopnUrzB8",
        "outputId": "be685af2-b8da-45b1-e58b-042651271aed"
      },
      "outputs": [
        {
          "output_type": "stream",
          "name": "stdout",
          "text": [
            "C\n",
            "B\n",
            "A\n",
            "fail\n",
            "A\n"
          ]
        }
      ],
      "source": [
        "subject_1= 72\n",
        "\n",
        "subject_2= 85\n",
        "\n",
        "subject_3= 96\n",
        "\n",
        "subject_4 = 42\n",
        "\n",
        "subject_5= 95\n",
        "\n",
        "\n",
        "if subject_1 > 90:\n",
        "  print (\"A\")\n",
        "\n",
        "elif subject_1 > 80:\n",
        "  print (\"B\")\n",
        "\n",
        "elif subject_1 > 70:\n",
        "  print (\"C\")\n",
        "\n",
        "elif subject_1 > 60:\n",
        "  print (\"D\")\n",
        "\n",
        "elif subject_1 > 50:\n",
        "  print (\"E\")\n",
        "\n",
        "else :\n",
        "  print(\"fail\")\n",
        "\n",
        "if subject_2 > 90:\n",
        "  print (\"A\")\n",
        "\n",
        "elif subject_2 > 80:\n",
        "  print (\"B\")\n",
        "\n",
        "elif subject_2 > 70:\n",
        "  print (\"C\")\n",
        "\n",
        "elif subject_2 > 60:\n",
        "  print (\"D\")\n",
        "\n",
        "elif subject_2 > 50:\n",
        "  print (\"E\")\n",
        "\n",
        "else :\n",
        "  print(\"fail\")\n",
        "\n",
        "if subject_3 > 90:\n",
        "  print (\"A\")\n",
        "\n",
        "elif subject_3 > 80:\n",
        "  print (\"B\")\n",
        "\n",
        "elif subject_3 > 70:\n",
        "  print (\"C\")\n",
        "\n",
        "elif subject_3 > 60:\n",
        "  print (\"D\")\n",
        "\n",
        "elif subject_3 > 50:\n",
        "  print (\"E\")\n",
        "\n",
        "else :\n",
        "  print(\"fail\")\n",
        "\n",
        "if subject_4 > 90:\n",
        "  print (\"A\")\n",
        "\n",
        "elif subject_4 > 80:\n",
        "  print (\"B\")\n",
        "\n",
        "elif subject_4 > 70:\n",
        "  print (\"C\")\n",
        "\n",
        "elif subject_4 > 60:\n",
        "  print (\"D\")\n",
        "\n",
        "elif subject_4 > 50:\n",
        "  print (\"E\")\n",
        "\n",
        "else :\n",
        "  print(\"fail\")\n",
        "\n",
        "if subject_5 > 90:\n",
        "  print (\"A\")\n",
        "\n",
        "elif subject_5 > 80:\n",
        "  print (\"B\")\n",
        "\n",
        "elif subject_5 > 70:\n",
        "  print (\"C\")\n",
        "\n",
        "elif subject_5 > 60:\n",
        "  print (\"D\")\n",
        "\n",
        "elif subject_5 > 50:\n",
        "  print (\"E\")\n",
        "\n",
        "else :\n",
        "  print(\"fail\")"
      ]
    },
    {
      "cell_type": "markdown",
      "metadata": {
        "id": "pvIZkjiorzB9"
      },
      "source": [
        "###  5. Check if a triangle is equilateral, isosceles or scalene.\n",
        "\n",
        "Hint :\n",
        "1. An equilateral triangle is a triangle in which all three sides are equal.\n",
        "\n",
        "2. A scalene triangle is a triangle that has three unequal sides.\n",
        "\n",
        "3. An isosceles triangle is a triangle with (at least) two equal sides.\n",
        "\n",
        "Dimensions of triangle:\n",
        "\n",
        "side 1 = 6\n",
        "\n",
        "side 2 = 8\n",
        "\n",
        "side 3 = 12"
      ]
    },
    {
      "cell_type": "code",
      "execution_count": 6,
      "metadata": {
        "colab": {
          "base_uri": "https://localhost:8080/"
        },
        "id": "ItRz38QJrzB9",
        "outputId": "a3d27cc8-6fac-4e43-9556-fb5ff9f5e635"
      },
      "outputs": [
        {
          "output_type": "stream",
          "name": "stdout",
          "text": [
            "Isosceles\n"
          ]
        }
      ],
      "source": [
        "side_1 = 12\n",
        "\n",
        "side_2 = 8\n",
        "\n",
        "side_3 = 12\n",
        "\n",
        "if side_1 == side_2 == side_3:\n",
        "  print(\"Equalateral\")\n",
        "if side_1 != side_2 != side_3 and side_1 != side_3 != side_2:\n",
        "  print(\"Scalene\")\n",
        "if side_1 == side_2 != side_3 or side_1 != side_2 == side_3 or side_1 == side_3 != side_2:\n",
        "  print(\"Isosceles\")"
      ]
    },
    {
      "cell_type": "markdown",
      "metadata": {
        "id": "Px1qiTPqrzB9"
      },
      "source": [
        "### 6. Check if the word \"Data\" is present in the sentence \"I am a Data Scientist\". If found print \"It is present\" else print FALSE"
      ]
    },
    {
      "cell_type": "code",
      "execution_count": 17,
      "metadata": {
        "id": "hZwCJPQprzB9",
        "colab": {
          "base_uri": "https://localhost:8080/"
        },
        "outputId": "b762cb90-1393-47cd-9cb5-276fc5213f84"
      },
      "outputs": [
        {
          "output_type": "stream",
          "name": "stdout",
          "text": [
            "It is present\n"
          ]
        }
      ],
      "source": [
        "word = \"Data\"\n",
        "string = \"I am a Data Scientist\"\n",
        "if word in string:\n",
        "  print(\"It is present\")"
      ]
    },
    {
      "cell_type": "markdown",
      "metadata": {
        "id": "kibB0nRnrzB9"
      },
      "source": [
        "### 7. Write Python code to check if a number is positive or negative."
      ]
    },
    {
      "cell_type": "code",
      "execution_count": 7,
      "metadata": {
        "colab": {
          "base_uri": "https://localhost:8080/"
        },
        "id": "2dDwt-i0rzB9",
        "outputId": "6cfe9dcf-17f9-4f46-dad4-c06a40ea3d25"
      },
      "outputs": [
        {
          "output_type": "stream",
          "name": "stdout",
          "text": [
            "positive\n"
          ]
        }
      ],
      "source": [
        "num = 1\n",
        "if num > 0:\n",
        "  print(\"positive\")\n",
        "if num < 0:\n",
        "  print(\"negative\")\n"
      ]
    },
    {
      "cell_type": "markdown",
      "metadata": {
        "id": "B7sp4O9SrzB-"
      },
      "source": [
        "### 8. x = 20 and y = 30. Write a Python code to check if x is less than y."
      ]
    },
    {
      "cell_type": "code",
      "execution_count": 8,
      "metadata": {
        "colab": {
          "base_uri": "https://localhost:8080/"
        },
        "id": "ACcNjuwxrzB-",
        "outputId": "69c0b579-1297-47cd-ffaa-e68b224d61bb"
      },
      "outputs": [
        {
          "output_type": "stream",
          "name": "stdout",
          "text": [
            "Less than\n"
          ]
        }
      ],
      "source": [
        "x = 20\n",
        "y = 30\n",
        "if x < y :\n",
        "  print(\"Less than\")"
      ]
    },
    {
      "cell_type": "markdown",
      "metadata": {
        "id": "bmlnx57ArzB-"
      },
      "source": [
        "### 9. Based on the users age, divide them into three groups\n",
        "    Group 1 : Age <18 , Minors who are not eligible to work\n",
        "    Group 2 : 18 < Age < 60 , Eligible to work\n",
        "    Group 3 : Age > 60, Too old to work as per govt. regulations.\n",
        "\n",
        "### Write a Python code for the same"
      ]
    },
    {
      "cell_type": "code",
      "execution_count": 9,
      "metadata": {
        "colab": {
          "base_uri": "https://localhost:8080/"
        },
        "id": "rxOvvfOjrzB-",
        "outputId": "0f9027ab-06cf-463a-fabd-7279f8ec8ec8"
      },
      "outputs": [
        {
          "output_type": "stream",
          "name": "stdout",
          "text": [
            "Minors who are not eligible to work\n"
          ]
        }
      ],
      "source": [
        "age = 1\n",
        "if age < 18:\n",
        "  print(\"Minors who are not eligible to work\")\n",
        "if age > 18 and age < 60:\n",
        "  print(\"eligible to work\")\n",
        "if age > 60:\n",
        "  print(\"too old to work as a per govt. regulations\")"
      ]
    },
    {
      "cell_type": "markdown",
      "metadata": {
        "id": "mGE0bEl5rzB-"
      },
      "source": [
        "### 10. From the age of 3 people determine the oldest person among them.\n",
        "Age of first person = 25\n",
        "\n",
        "Age of second person = 34\n",
        "\n",
        "Age of third person = 45"
      ]
    },
    {
      "cell_type": "code",
      "execution_count": 10,
      "metadata": {
        "colab": {
          "base_uri": "https://localhost:8080/"
        },
        "id": "8Kno4XBDrzB-",
        "outputId": "a8134e21-2ea8-4189-ff66-6836829ad5e2"
      },
      "outputs": [
        {
          "output_type": "stream",
          "name": "stdout",
          "text": [
            "Third person is oldest\n"
          ]
        }
      ],
      "source": [
        "age_1 = 25\n",
        "age_2 = 34\n",
        "age_3 = 45\n",
        "if age_1 > age_2 and age_1 > age_3:\n",
        "  print(\"First person is oldest\")\n",
        "if age_2 > age_1 and age_2 > age_3:\n",
        "  print(\"Second person is oldest\")\n",
        "if age_3 > age_1 and age_3 > age_2:\n",
        "  print(\"Third person is oldest\")"
      ]
    }
  ],
  "metadata": {
    "kernelspec": {
      "display_name": "Python 3 (ipykernel)",
      "language": "python",
      "name": "python3"
    },
    "language_info": {
      "codemirror_mode": {
        "name": "ipython",
        "version": 3
      },
      "file_extension": ".py",
      "mimetype": "text/x-python",
      "name": "python",
      "nbconvert_exporter": "python",
      "pygments_lexer": "ipython3",
      "version": "3.9.7"
    },
    "colab": {
      "provenance": []
    }
  },
  "nbformat": 4,
  "nbformat_minor": 0
}