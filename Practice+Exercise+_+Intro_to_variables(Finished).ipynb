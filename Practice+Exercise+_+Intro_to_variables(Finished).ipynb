{
  "cells": [
    {
      "cell_type": "markdown",
      "metadata": {
        "id": "L4IVscDYoHzk"
      },
      "source": [
        "# **INTRO TO VARIABLE EXERCISE**"
      ]
    },
    {
      "cell_type": "markdown",
      "metadata": {
        "id": "g9VQE_IIoHzn"
      },
      "source": [
        "### 1. What will be the type of the *add* variable?\n",
        "a = 10\n",
        "\n",
        "b = 5.1\n",
        "\n",
        "add = a + b"
      ]
    },
    {
      "cell_type": "code",
      "execution_count": 2,
      "metadata": {
        "colab": {
          "base_uri": "https://localhost:8080/"
        },
        "id": "_Csyn5YAoHzo",
        "outputId": "dab9b6ba-f30e-450b-e0d3-a6bd931038cd"
      },
      "outputs": [
        {
          "output_type": "execute_result",
          "data": {
            "text/plain": [
              "float"
            ]
          },
          "metadata": {},
          "execution_count": 2
        }
      ],
      "source": [
        "a = 10\n",
        "\n",
        "b = 5.1\n",
        "\n",
        "add = a + b\n",
        "\n",
        "type(add)"
      ]
    },
    {
      "cell_type": "markdown",
      "metadata": {
        "id": "46CyqmfZoHzo"
      },
      "source": [
        "### 2. Is 5 == (3+2)?"
      ]
    },
    {
      "cell_type": "code",
      "execution_count": 3,
      "metadata": {
        "colab": {
          "base_uri": "https://localhost:8080/"
        },
        "id": "9hz06aCZoHzo",
        "outputId": "30444f25-053e-4528-bb67-1a81d6094517"
      },
      "outputs": [
        {
          "output_type": "execute_result",
          "data": {
            "text/plain": [
              "True"
            ]
          },
          "metadata": {},
          "execution_count": 3
        }
      ],
      "source": [
        "5 == (3+2)"
      ]
    },
    {
      "cell_type": "markdown",
      "metadata": {
        "id": "98JCSZhsoHzp"
      },
      "source": [
        "### 3. Add 33 in variable *a* and print the result\n",
        "\n",
        "a = 3"
      ]
    },
    {
      "cell_type": "code",
      "execution_count": 7,
      "metadata": {
        "colab": {
          "base_uri": "https://localhost:8080/"
        },
        "id": "NTZ2Pl22oHzp",
        "outputId": "1230c520-a017-4ba4-ff77-689add53600b"
      },
      "outputs": [
        {
          "output_type": "stream",
          "name": "stdout",
          "text": [
            "33\n"
          ]
        }
      ],
      "source": [
        "a = 3\n",
        "a += 30\n",
        "print(a)"
      ]
    },
    {
      "cell_type": "markdown",
      "metadata": {
        "id": "c97eU2JmoHzp"
      },
      "source": [
        "### 4. Convert integer variable *a* to float and check its type\n",
        "\n",
        "a = 3"
      ]
    },
    {
      "cell_type": "code",
      "execution_count": 10,
      "metadata": {
        "colab": {
          "base_uri": "https://localhost:8080/"
        },
        "id": "HFrxU9NGoHzp",
        "outputId": "1b20a6ce-e46d-4dc8-ca7f-c604bc067c7e"
      },
      "outputs": [
        {
          "output_type": "execute_result",
          "data": {
            "text/plain": [
              "float"
            ]
          },
          "metadata": {},
          "execution_count": 10
        }
      ],
      "source": [
        "a = float(a)\n",
        "\n",
        "type(a)"
      ]
    },
    {
      "cell_type": "markdown",
      "metadata": {
        "id": "gDk1f3pKoHzq"
      },
      "source": [
        "### 5. What will be 5 times *a* if the value of a is 10?"
      ]
    },
    {
      "cell_type": "code",
      "execution_count": 11,
      "metadata": {
        "colab": {
          "base_uri": "https://localhost:8080/"
        },
        "id": "MfvvRrUyoHzq",
        "outputId": "d77ab388-5596-4316-dc0c-a7df8bc137b6"
      },
      "outputs": [
        {
          "output_type": "stream",
          "name": "stdout",
          "text": [
            "50\n"
          ]
        }
      ],
      "source": [
        "a = 10\n",
        "print(5*a)"
      ]
    },
    {
      "cell_type": "markdown",
      "metadata": {
        "id": "rKBUABUFoHzq"
      },
      "source": [
        "### 6. Write a program to calculate the area of a triangle with base = 10 and height = 5\n",
        "\n",
        "Hint : area of triangle = 1/2 * base * height"
      ]
    },
    {
      "cell_type": "code",
      "execution_count": 12,
      "metadata": {
        "colab": {
          "base_uri": "https://localhost:8080/"
        },
        "id": "6rEtf6-ToHzq",
        "outputId": "59115db1-2e72-45e7-e9b9-73fc589c2882"
      },
      "outputs": [
        {
          "output_type": "stream",
          "name": "stdout",
          "text": [
            "25.0\n"
          ]
        }
      ],
      "source": [
        "base = 10\n",
        "height = 5\n",
        "area = (base*height) / 2\n",
        "print(area)"
      ]
    },
    {
      "cell_type": "markdown",
      "metadata": {
        "id": "d1HnIbK3oHzq"
      },
      "source": [
        "### 7. What will be the value of *z* in the following expression:\n",
        "\n",
        "z = (v + w) * (x / y)\n",
        "\n",
        "If\n",
        "\n",
        "v = 10\n",
        "\n",
        "w = 25\n",
        "\n",
        "x = 70\n",
        "\n",
        "y = 2"
      ]
    },
    {
      "cell_type": "code",
      "execution_count": 15,
      "metadata": {
        "colab": {
          "base_uri": "https://localhost:8080/"
        },
        "id": "7rxg0Ly0oHzq",
        "outputId": "fd5f4a32-a70b-4277-8bed-38648b768d8a"
      },
      "outputs": [
        {
          "output_type": "stream",
          "name": "stdout",
          "text": [
            "1225.0\n"
          ]
        }
      ],
      "source": [
        "v = 10\n",
        "\n",
        "w = 25\n",
        "\n",
        "x = 70\n",
        "\n",
        "y = 2\n",
        "z = (v + w) * (x / y)\n",
        "\n",
        "print(z)\n",
        "\n",
        "#techincally if you copy and paste the problem and attempt to run it then the answer is an error because you call on varibales before you\n",
        "#assign a value.\n",
        "#if you change the sequance of these lines into a correct form than the answer is 1225.0"
      ]
    },
    {
      "cell_type": "markdown",
      "metadata": {
        "id": "cm2bVa7SoHzr"
      },
      "source": [
        "### 8. Swap values of *a* and *b*\n",
        "If before swapping a = 10 and b = 5\n",
        "\n",
        "Then after swapping a = 5 and b = 10\n",
        "##### Values can not be hardcoded"
      ]
    },
    {
      "cell_type": "code",
      "execution_count": 19,
      "metadata": {
        "colab": {
          "base_uri": "https://localhost:8080/"
        },
        "id": "Qe3YUOT5oHzr",
        "outputId": "004ca4c8-fd3f-4ee9-edee-4e52e875ff3c"
      },
      "outputs": [
        {
          "output_type": "stream",
          "name": "stdout",
          "text": [
            "a =  10\n",
            "b =  5\n",
            "a =  5\n",
            "b =  10\n"
          ]
        }
      ],
      "source": [
        "a = 10\n",
        "b = 5\n",
        "print('a = ',a)\n",
        "print('b = ',b)\n",
        "\n",
        "a, b = b, a\n",
        "print('a = ',a)\n",
        "print('b = ',b)"
      ]
    },
    {
      "cell_type": "markdown",
      "metadata": {
        "id": "iOhgKChLoHzr"
      },
      "source": [
        "### 9. Convert 35 degree Celsius temperature to Fahrenheit"
      ]
    },
    {
      "cell_type": "code",
      "execution_count": 20,
      "metadata": {
        "colab": {
          "base_uri": "https://localhost:8080/"
        },
        "id": "2g1TLqduoHzr",
        "outputId": "30b1bba3-c718-4a5f-9220-cbe70ee62e97"
      },
      "outputs": [
        {
          "output_type": "stream",
          "name": "stdout",
          "text": [
            "95.0\n"
          ]
        }
      ],
      "source": [
        "C = 35\n",
        "F = (9/5 * C) + 32\n",
        "print(F)"
      ]
    }
  ],
  "metadata": {
    "kernelspec": {
      "display_name": "Python 3 (ipykernel)",
      "language": "python",
      "name": "python3"
    },
    "language_info": {
      "codemirror_mode": {
        "name": "ipython",
        "version": 3
      },
      "file_extension": ".py",
      "mimetype": "text/x-python",
      "name": "python",
      "nbconvert_exporter": "python",
      "pygments_lexer": "ipython3",
      "version": "3.9.7"
    },
    "colab": {
      "provenance": []
    }
  },
  "nbformat": 4,
  "nbformat_minor": 0
}